{
 "cells": [
  {
   "cell_type": "markdown",
   "metadata": {},
   "source": [
    "<img src='https://encrypted-tbn0.gstatic.com/images?q=tbn%3AANd9GcQ-VfNtOyJbsaxu43Kztf_cv1mgBG6ZIQZEVw&usqp=CAU'>\n",
    "\n",
    "# Procesamiento de Lenguage Natural\n",
    "\n",
    "## Taller #11: Twitter\n",
    "`Fecha de entrega: Mayo 20, 2021 (Antes del inicio de la próxima clase).`\n",
    "\n",
    "`Modo de entrega: Subir link de GitHub al aula virtual.`"
   ]
  },
  {
   "cell_type": "markdown",
   "metadata": {},
   "source": [
    "###  `[25 pts]` Punto 1: Extraer Tuits\n",
    "Extraer mínimo 100 tuits de Twitter usando la API\n",
    "\n",
    "❌ No escoger un tema de los que hicimos en clase (día de las madres, Giro de Italia, #EraGoldeYepes)"
   ]
  },
  {
   "cell_type": "code",
   "execution_count": 5,
   "metadata": {},
   "outputs": [],
   "source": [
    "import pandas as pd\n",
    "import tweepy\n",
    "import re\n",
    "import regex\n",
    "import emoji"
   ]
  },
  {
   "cell_type": "code",
   "execution_count": 4,
   "metadata": {},
   "outputs": [],
   "source": [
    "api_key=\"#########\"\n",
    "auth = tweepy.OAuthHandler(\"P2j2I0zPIOKlFcE6tLXFYrUMs\", \"103Sp4rD3tDTlOwHvmRgi0RplmN6Mb80oLiIc0sC0qVcW0T28t\")\n",
    "auth.set_access_token(\"1362577829691609088-tiZkEvLZQn1JjlI7VO15lETDFIDvlK\",\"Fsoz17Fi43fDH76wm33rE01urAhKofXV5Su9DgwfyTUWh\" )\n",
    "api = tweepy.API(auth, wait_on_rate_limit=True)"
   ]
  },
  {
   "cell_type": "code",
   "execution_count": 7,
   "metadata": {},
   "outputs": [],
   "source": [
    "tweets = tweepy.Cursor(api.search,\n",
    "                       q=['#fortnite'],\n",
    "                       lang='es',\n",
    "                       tweet_mode='extended',\n",
    "                       include_rts=False,\n",
    "                       ).items(100)"
   ]
  },
  {
   "cell_type": "code",
   "execution_count": 8,
   "metadata": {},
   "outputs": [
    {
     "data": {
      "text/plain": [
       "<tweepy.cursor.ItemIterator at 0x273d11132e0>"
      ]
     },
     "execution_count": 8,
     "metadata": {},
     "output_type": "execute_result"
    }
   ],
   "source": [
    "tweets"
   ]
  },
  {
   "cell_type": "code",
   "execution_count": 9,
   "metadata": {},
   "outputs": [],
   "source": [
    "t = [tweet for tweet in tweets]"
   ]
  },
  {
   "cell_type": "code",
   "execution_count": 11,
   "metadata": {},
   "outputs": [
    {
     "data": {
      "text/html": [
       "<div>\n",
       "<style scoped>\n",
       "    .dataframe tbody tr th:only-of-type {\n",
       "        vertical-align: middle;\n",
       "    }\n",
       "\n",
       "    .dataframe tbody tr th {\n",
       "        vertical-align: top;\n",
       "    }\n",
       "\n",
       "    .dataframe thead th {\n",
       "        text-align: right;\n",
       "    }\n",
       "</style>\n",
       "<table border=\"1\" class=\"dataframe\">\n",
       "  <thead>\n",
       "    <tr style=\"text-align: right;\">\n",
       "      <th></th>\n",
       "      <th>tweets</th>\n",
       "      <th>date</th>\n",
       "      <th>city</th>\n",
       "      <th>user_location</th>\n",
       "      <th>id</th>\n",
       "      <th>link</th>\n",
       "    </tr>\n",
       "  </thead>\n",
       "  <tbody>\n",
       "    <tr>\n",
       "      <th>0</th>\n",
       "      <td>La sección de \"Personaliza tu héroe\" ha sido a...</td>\n",
       "      <td>2021-05-20 20:18:18</td>\n",
       "      <td>Bogotá</td>\n",
       "      <td>Costa Rica</td>\n",
       "      <td>1395473979935272964</td>\n",
       "      <td>https://twitter.com/i/web/stuatus/139547397993...</td>\n",
       "    </tr>\n",
       "    <tr>\n",
       "      <th>1</th>\n",
       "      <td>El paquete de desafíos de \"Sombras Callejeras\"...</td>\n",
       "      <td>2021-05-20 20:18:14</td>\n",
       "      <td>Bogotá</td>\n",
       "      <td>Madrid</td>\n",
       "      <td>1395473965418754051</td>\n",
       "      <td>https://twitter.com/i/web/stuatus/139547396541...</td>\n",
       "    </tr>\n",
       "    <tr>\n",
       "      <th>2</th>\n",
       "      <td>RT @Jorge_Most_: Re-Subo el enlace para conseg...</td>\n",
       "      <td>2021-05-20 20:17:18</td>\n",
       "      <td>Bogotá</td>\n",
       "      <td>Xalapa, Veracruz de Ignacio de</td>\n",
       "      <td>1395473728075702279</td>\n",
       "      <td>https://twitter.com/i/web/stuatus/139547372807...</td>\n",
       "    </tr>\n",
       "    <tr>\n",
       "      <th>3</th>\n",
       "      <td>La sección de \"Personaliza tu Héroe\" ha sido a...</td>\n",
       "      <td>2021-05-20 20:16:36</td>\n",
       "      <td>Bogotá</td>\n",
       "      <td>Madrid</td>\n",
       "      <td>1395473553911435267</td>\n",
       "      <td>https://twitter.com/i/web/stuatus/139547355391...</td>\n",
       "    </tr>\n",
       "    <tr>\n",
       "      <th>4</th>\n",
       "      <td>RT @Jorge_Most_: El Pack Sombra Rubí también e...</td>\n",
       "      <td>2021-05-20 20:16:04</td>\n",
       "      <td>Bogotá</td>\n",
       "      <td></td>\n",
       "      <td>1395473417856552960</td>\n",
       "      <td>https://twitter.com/i/web/stuatus/139547341785...</td>\n",
       "    </tr>\n",
       "    <tr>\n",
       "      <th>...</th>\n",
       "      <td>...</td>\n",
       "      <td>...</td>\n",
       "      <td>...</td>\n",
       "      <td>...</td>\n",
       "      <td>...</td>\n",
       "      <td>...</td>\n",
       "    </tr>\n",
       "    <tr>\n",
       "      <th>95</th>\n",
       "      <td>RT @Jorge_Most_: Se han activado los Drops de ...</td>\n",
       "      <td>2021-05-20 19:44:05</td>\n",
       "      <td>Bogotá</td>\n",
       "      <td>Argentina</td>\n",
       "      <td>1395465371772203011</td>\n",
       "      <td>https://twitter.com/i/web/stuatus/139546537177...</td>\n",
       "    </tr>\n",
       "    <tr>\n",
       "      <th>96</th>\n",
       "      <td>RT @Jorge_Most_: Re-Subo el enlace para conseg...</td>\n",
       "      <td>2021-05-20 19:43:58</td>\n",
       "      <td>Bogotá</td>\n",
       "      <td>Las Palmas, Islas Canarias</td>\n",
       "      <td>1395465339677429760</td>\n",
       "      <td>https://twitter.com/i/web/stuatus/139546533967...</td>\n",
       "    </tr>\n",
       "    <tr>\n",
       "      <th>97</th>\n",
       "      <td>RT @3DJuegosMX: Y hablando de la NBA: la liga ...</td>\n",
       "      <td>2021-05-20 19:43:56</td>\n",
       "      <td>Bogotá</td>\n",
       "      <td></td>\n",
       "      <td>1395465331120934916</td>\n",
       "      <td>https://twitter.com/i/web/stuatus/139546533112...</td>\n",
       "    </tr>\n",
       "    <tr>\n",
       "      <th>98</th>\n",
       "      <td>RT @NotPaloleaks: La sección de ¡Personaliza t...</td>\n",
       "      <td>2021-05-20 19:43:39</td>\n",
       "      <td>Bogotá</td>\n",
       "      <td>Austintown, Ohio</td>\n",
       "      <td>1395465261478817800</td>\n",
       "      <td>https://twitter.com/i/web/stuatus/139546526147...</td>\n",
       "    </tr>\n",
       "    <tr>\n",
       "      <th>99</th>\n",
       "      <td>La pestaña ¡Personaliza tu héroe\" se ha actual...</td>\n",
       "      <td>2021-05-20 19:43:35</td>\n",
       "      <td>Bogotá</td>\n",
       "      <td>The Spire</td>\n",
       "      <td>1395465246748418055</td>\n",
       "      <td>https://twitter.com/i/web/stuatus/139546524674...</td>\n",
       "    </tr>\n",
       "  </tbody>\n",
       "</table>\n",
       "<p>100 rows × 6 columns</p>\n",
       "</div>"
      ],
      "text/plain": [
       "                                               tweets                date  \\\n",
       "0   La sección de \"Personaliza tu héroe\" ha sido a... 2021-05-20 20:18:18   \n",
       "1   El paquete de desafíos de \"Sombras Callejeras\"... 2021-05-20 20:18:14   \n",
       "2   RT @Jorge_Most_: Re-Subo el enlace para conseg... 2021-05-20 20:17:18   \n",
       "3   La sección de \"Personaliza tu Héroe\" ha sido a... 2021-05-20 20:16:36   \n",
       "4   RT @Jorge_Most_: El Pack Sombra Rubí también e... 2021-05-20 20:16:04   \n",
       "..                                                ...                 ...   \n",
       "95  RT @Jorge_Most_: Se han activado los Drops de ... 2021-05-20 19:44:05   \n",
       "96  RT @Jorge_Most_: Re-Subo el enlace para conseg... 2021-05-20 19:43:58   \n",
       "97  RT @3DJuegosMX: Y hablando de la NBA: la liga ... 2021-05-20 19:43:56   \n",
       "98  RT @NotPaloleaks: La sección de ¡Personaliza t... 2021-05-20 19:43:39   \n",
       "99  La pestaña ¡Personaliza tu héroe\" se ha actual... 2021-05-20 19:43:35   \n",
       "\n",
       "      city                   user_location                   id  \\\n",
       "0   Bogotá                      Costa Rica  1395473979935272964   \n",
       "1   Bogotá                          Madrid  1395473965418754051   \n",
       "2   Bogotá  Xalapa, Veracruz de Ignacio de  1395473728075702279   \n",
       "3   Bogotá                          Madrid  1395473553911435267   \n",
       "4   Bogotá                                  1395473417856552960   \n",
       "..     ...                             ...                  ...   \n",
       "95  Bogotá                       Argentina  1395465371772203011   \n",
       "96  Bogotá      Las Palmas, Islas Canarias  1395465339677429760   \n",
       "97  Bogotá                                  1395465331120934916   \n",
       "98  Bogotá                Austintown, Ohio  1395465261478817800   \n",
       "99  Bogotá                       The Spire  1395465246748418055   \n",
       "\n",
       "                                                 link  \n",
       "0   https://twitter.com/i/web/stuatus/139547397993...  \n",
       "1   https://twitter.com/i/web/stuatus/139547396541...  \n",
       "2   https://twitter.com/i/web/stuatus/139547372807...  \n",
       "3   https://twitter.com/i/web/stuatus/139547355391...  \n",
       "4   https://twitter.com/i/web/stuatus/139547341785...  \n",
       "..                                                ...  \n",
       "95  https://twitter.com/i/web/stuatus/139546537177...  \n",
       "96  https://twitter.com/i/web/stuatus/139546533967...  \n",
       "97  https://twitter.com/i/web/stuatus/139546533112...  \n",
       "98  https://twitter.com/i/web/stuatus/139546526147...  \n",
       "99  https://twitter.com/i/web/stuatus/139546524674...  \n",
       "\n",
       "[100 rows x 6 columns]"
      ]
     },
     "execution_count": 11,
     "metadata": {},
     "output_type": "execute_result"
    }
   ],
   "source": [
    "t_processed = []\n",
    "\n",
    "for tweet in t: \n",
    "    temp = []\n",
    "    temp.append(tweet.full_text)\n",
    "    temp.append(tweet.created_at)\n",
    "    temp.append('Bogotá')\n",
    "    temp.append(tweet.user.location)\n",
    "    temp.append(tweet.id)\n",
    "    temp.append(f\"https://twitter.com/i/web/stuatus/{tweet.id}\")\n",
    "    t_processed.append(temp)\n",
    "    \n",
    "data = pd.DataFrame(t_processed)\n",
    "data.columns = ['tweets', 'date', 'city', 'user_location', 'id', 'link']\n",
    "data"
   ]
  },
  {
   "cell_type": "code",
   "execution_count": 12,
   "metadata": {},
   "outputs": [],
   "source": [
    "pattern1 = '?P<pic>pic.twitter.com/[^\\s]+'\n",
    "pattern2 = '?P<url>https?://[^\\s]+'\n",
    "\n",
    "def text_clean(row):\n",
    "    text = row['tweets']\n",
    "    \n",
    "    links = [tuple(j for j in i if j)[-1] for i in re.findall(f\"({pattern1})|({pattern2})\",text)]\n",
    "    for link in links:\n",
    "        text = text.replace(link,\"\")\n",
    "    \n",
    "    hashtags = [interaction for interaction in text.split() if interaction.startswith(\"#\")]\n",
    "    for hashtag in hashtags:\n",
    "        text = text.replace(hashtag, \"\")\n",
    "        \n",
    "    mentions = [interaction for interaction in text.split() if interaction.startswith(\"@\")]\n",
    "    for mention in mentions:\n",
    "        text = text.replace(mention, \"\")\n",
    "        \n",
    "    return text, links, hashtags, mentions\n",
    "  \n",
    "data[['texto_limpio', 'links', 'hashtags', 'mentions']] = data.apply(text_clean, axis=1, result_type='expand')"
   ]
  },
  {
   "cell_type": "code",
   "execution_count": 13,
   "metadata": {},
   "outputs": [
    {
     "data": {
      "text/html": [
       "<div>\n",
       "<style scoped>\n",
       "    .dataframe tbody tr th:only-of-type {\n",
       "        vertical-align: middle;\n",
       "    }\n",
       "\n",
       "    .dataframe tbody tr th {\n",
       "        vertical-align: top;\n",
       "    }\n",
       "\n",
       "    .dataframe thead th {\n",
       "        text-align: right;\n",
       "    }\n",
       "</style>\n",
       "<table border=\"1\" class=\"dataframe\">\n",
       "  <thead>\n",
       "    <tr style=\"text-align: right;\">\n",
       "      <th></th>\n",
       "      <th>tweets</th>\n",
       "      <th>date</th>\n",
       "      <th>city</th>\n",
       "      <th>user_location</th>\n",
       "      <th>id</th>\n",
       "      <th>link</th>\n",
       "      <th>texto_limpio</th>\n",
       "      <th>links</th>\n",
       "      <th>hashtags</th>\n",
       "      <th>mentions</th>\n",
       "      <th>emojis</th>\n",
       "    </tr>\n",
       "  </thead>\n",
       "  <tbody>\n",
       "    <tr>\n",
       "      <th>0</th>\n",
       "      <td>La sección de \"Personaliza tu héroe\" ha sido a...</td>\n",
       "      <td>2021-05-20 20:18:18</td>\n",
       "      <td>Bogotá</td>\n",
       "      <td>Costa Rica</td>\n",
       "      <td>1395473979935272964</td>\n",
       "      <td>https://twitter.com/i/web/stuatus/139547397993...</td>\n",
       "      <td>La sección de \"Personaliza tu héroe\" ha sido a...</td>\n",
       "      <td>[https://t.co/YR9A7XZsdJ]</td>\n",
       "      <td>[#Fortnite]</td>\n",
       "      <td>[]</td>\n",
       "      <td>[]</td>\n",
       "    </tr>\n",
       "    <tr>\n",
       "      <th>1</th>\n",
       "      <td>El paquete de desafíos de \"Sombras Callejeras\"...</td>\n",
       "      <td>2021-05-20 20:18:14</td>\n",
       "      <td>Bogotá</td>\n",
       "      <td>Madrid</td>\n",
       "      <td>1395473965418754051</td>\n",
       "      <td>https://twitter.com/i/web/stuatus/139547396541...</td>\n",
       "      <td>El paquete de desafíos de \"Sombras Callejeras\"...</td>\n",
       "      <td>[https://t.co/RrnePHzlGy]</td>\n",
       "      <td>[#Fortnite]</td>\n",
       "      <td>[]</td>\n",
       "      <td>[]</td>\n",
       "    </tr>\n",
       "    <tr>\n",
       "      <th>2</th>\n",
       "      <td>RT @Jorge_Most_: Re-Subo el enlace para conseg...</td>\n",
       "      <td>2021-05-20 20:17:18</td>\n",
       "      <td>Bogotá</td>\n",
       "      <td>Xalapa, Veracruz de Ignacio de</td>\n",
       "      <td>1395473728075702279</td>\n",
       "      <td>https://twitter.com/i/web/stuatus/139547372807...</td>\n",
       "      <td>RT  Re-Subo el enlace para conseguir el pack d...</td>\n",
       "      <td>[]</td>\n",
       "      <td>[]</td>\n",
       "      <td>[@Jorge_Most_:]</td>\n",
       "      <td>[]</td>\n",
       "    </tr>\n",
       "    <tr>\n",
       "      <th>3</th>\n",
       "      <td>La sección de \"Personaliza tu Héroe\" ha sido a...</td>\n",
       "      <td>2021-05-20 20:16:36</td>\n",
       "      <td>Bogotá</td>\n",
       "      <td>Madrid</td>\n",
       "      <td>1395473553911435267</td>\n",
       "      <td>https://twitter.com/i/web/stuatus/139547355391...</td>\n",
       "      <td>La sección de \"Personaliza tu Héroe\" ha sido a...</td>\n",
       "      <td>[https://t.co/UAggxBvFzh]</td>\n",
       "      <td>[#Fortnite]</td>\n",
       "      <td>[]</td>\n",
       "      <td>[]</td>\n",
       "    </tr>\n",
       "    <tr>\n",
       "      <th>4</th>\n",
       "      <td>RT @Jorge_Most_: El Pack Sombra Rubí también e...</td>\n",
       "      <td>2021-05-20 20:16:04</td>\n",
       "      <td>Bogotá</td>\n",
       "      <td></td>\n",
       "      <td>1395473417856552960</td>\n",
       "      <td>https://twitter.com/i/web/stuatus/139547341785...</td>\n",
       "      <td>RT  El Pack Sombra Rubí también está disponibl...</td>\n",
       "      <td>[]</td>\n",
       "      <td>[#Fortnite]</td>\n",
       "      <td>[@Jorge_Most_:, @Egyptian_Leaker]</td>\n",
       "      <td>[📸]</td>\n",
       "    </tr>\n",
       "  </tbody>\n",
       "</table>\n",
       "</div>"
      ],
      "text/plain": [
       "                                              tweets                date  \\\n",
       "0  La sección de \"Personaliza tu héroe\" ha sido a... 2021-05-20 20:18:18   \n",
       "1  El paquete de desafíos de \"Sombras Callejeras\"... 2021-05-20 20:18:14   \n",
       "2  RT @Jorge_Most_: Re-Subo el enlace para conseg... 2021-05-20 20:17:18   \n",
       "3  La sección de \"Personaliza tu Héroe\" ha sido a... 2021-05-20 20:16:36   \n",
       "4  RT @Jorge_Most_: El Pack Sombra Rubí también e... 2021-05-20 20:16:04   \n",
       "\n",
       "     city                   user_location                   id  \\\n",
       "0  Bogotá                      Costa Rica  1395473979935272964   \n",
       "1  Bogotá                          Madrid  1395473965418754051   \n",
       "2  Bogotá  Xalapa, Veracruz de Ignacio de  1395473728075702279   \n",
       "3  Bogotá                          Madrid  1395473553911435267   \n",
       "4  Bogotá                                  1395473417856552960   \n",
       "\n",
       "                                                link  \\\n",
       "0  https://twitter.com/i/web/stuatus/139547397993...   \n",
       "1  https://twitter.com/i/web/stuatus/139547396541...   \n",
       "2  https://twitter.com/i/web/stuatus/139547372807...   \n",
       "3  https://twitter.com/i/web/stuatus/139547355391...   \n",
       "4  https://twitter.com/i/web/stuatus/139547341785...   \n",
       "\n",
       "                                        texto_limpio  \\\n",
       "0  La sección de \"Personaliza tu héroe\" ha sido a...   \n",
       "1  El paquete de desafíos de \"Sombras Callejeras\"...   \n",
       "2  RT  Re-Subo el enlace para conseguir el pack d...   \n",
       "3  La sección de \"Personaliza tu Héroe\" ha sido a...   \n",
       "4  RT  El Pack Sombra Rubí también está disponibl...   \n",
       "\n",
       "                       links     hashtags                           mentions  \\\n",
       "0  [https://t.co/YR9A7XZsdJ]  [#Fortnite]                                 []   \n",
       "1  [https://t.co/RrnePHzlGy]  [#Fortnite]                                 []   \n",
       "2                         []           []                    [@Jorge_Most_:]   \n",
       "3  [https://t.co/UAggxBvFzh]  [#Fortnite]                                 []   \n",
       "4                         []  [#Fortnite]  [@Jorge_Most_:, @Egyptian_Leaker]   \n",
       "\n",
       "  emojis  \n",
       "0     []  \n",
       "1     []  \n",
       "2     []  \n",
       "3     []  \n",
       "4    [📸]  "
      ]
     },
     "execution_count": 13,
     "metadata": {},
     "output_type": "execute_result"
    }
   ],
   "source": [
    "def get_emojis(text):\n",
    "    emoji_list = []\n",
    "    data = regex.findall(r'\\X', text)\n",
    "    for word in data:\n",
    "        if any(char in emoji.UNICODE_EMOJI['en'] for char in word):\n",
    "            emoji_list.append(word)\n",
    "\n",
    "    return emoji_list\n",
    "  \n",
    "data['emojis'] = data['texto_limpio'].apply(lambda text: get_emojis(text))\n",
    "data.head()"
   ]
  },
  {
   "cell_type": "code",
   "execution_count": 14,
   "metadata": {},
   "outputs": [
    {
     "data": {
      "text/html": [
       "<div>\n",
       "<style scoped>\n",
       "    .dataframe tbody tr th:only-of-type {\n",
       "        vertical-align: middle;\n",
       "    }\n",
       "\n",
       "    .dataframe tbody tr th {\n",
       "        vertical-align: top;\n",
       "    }\n",
       "\n",
       "    .dataframe thead th {\n",
       "        text-align: right;\n",
       "    }\n",
       "</style>\n",
       "<table border=\"1\" class=\"dataframe\">\n",
       "  <thead>\n",
       "    <tr style=\"text-align: right;\">\n",
       "      <th></th>\n",
       "      <th>hora</th>\n",
       "      <th>cnt</th>\n",
       "    </tr>\n",
       "  </thead>\n",
       "  <tbody>\n",
       "    <tr>\n",
       "      <th>8</th>\n",
       "      <td>19:43:00</td>\n",
       "      <td>4</td>\n",
       "    </tr>\n",
       "    <tr>\n",
       "      <th>16</th>\n",
       "      <td>19:44:00</td>\n",
       "      <td>3</td>\n",
       "    </tr>\n",
       "    <tr>\n",
       "      <th>2</th>\n",
       "      <td>19:45:00</td>\n",
       "      <td>5</td>\n",
       "    </tr>\n",
       "    <tr>\n",
       "      <th>24</th>\n",
       "      <td>19:46:00</td>\n",
       "      <td>2</td>\n",
       "    </tr>\n",
       "    <tr>\n",
       "      <th>15</th>\n",
       "      <td>19:47:00</td>\n",
       "      <td>3</td>\n",
       "    </tr>\n",
       "    <tr>\n",
       "      <th>13</th>\n",
       "      <td>19:48:00</td>\n",
       "      <td>3</td>\n",
       "    </tr>\n",
       "    <tr>\n",
       "      <th>14</th>\n",
       "      <td>19:49:00</td>\n",
       "      <td>3</td>\n",
       "    </tr>\n",
       "    <tr>\n",
       "      <th>34</th>\n",
       "      <td>19:50:00</td>\n",
       "      <td>1</td>\n",
       "    </tr>\n",
       "    <tr>\n",
       "      <th>9</th>\n",
       "      <td>19:51:00</td>\n",
       "      <td>4</td>\n",
       "    </tr>\n",
       "    <tr>\n",
       "      <th>17</th>\n",
       "      <td>19:52:00</td>\n",
       "      <td>3</td>\n",
       "    </tr>\n",
       "    <tr>\n",
       "      <th>19</th>\n",
       "      <td>19:53:00</td>\n",
       "      <td>3</td>\n",
       "    </tr>\n",
       "    <tr>\n",
       "      <th>20</th>\n",
       "      <td>19:54:00</td>\n",
       "      <td>3</td>\n",
       "    </tr>\n",
       "    <tr>\n",
       "      <th>29</th>\n",
       "      <td>19:55:00</td>\n",
       "      <td>2</td>\n",
       "    </tr>\n",
       "    <tr>\n",
       "      <th>30</th>\n",
       "      <td>19:56:00</td>\n",
       "      <td>1</td>\n",
       "    </tr>\n",
       "    <tr>\n",
       "      <th>33</th>\n",
       "      <td>19:57:00</td>\n",
       "      <td>1</td>\n",
       "    </tr>\n",
       "    <tr>\n",
       "      <th>18</th>\n",
       "      <td>19:58:00</td>\n",
       "      <td>3</td>\n",
       "    </tr>\n",
       "    <tr>\n",
       "      <th>3</th>\n",
       "      <td>19:59:00</td>\n",
       "      <td>4</td>\n",
       "    </tr>\n",
       "    <tr>\n",
       "      <th>6</th>\n",
       "      <td>20:00:00</td>\n",
       "      <td>4</td>\n",
       "    </tr>\n",
       "    <tr>\n",
       "      <th>11</th>\n",
       "      <td>20:01:00</td>\n",
       "      <td>3</td>\n",
       "    </tr>\n",
       "    <tr>\n",
       "      <th>21</th>\n",
       "      <td>20:02:00</td>\n",
       "      <td>3</td>\n",
       "    </tr>\n",
       "    <tr>\n",
       "      <th>31</th>\n",
       "      <td>20:03:00</td>\n",
       "      <td>1</td>\n",
       "    </tr>\n",
       "    <tr>\n",
       "      <th>1</th>\n",
       "      <td>20:04:00</td>\n",
       "      <td>5</td>\n",
       "    </tr>\n",
       "    <tr>\n",
       "      <th>5</th>\n",
       "      <td>20:05:00</td>\n",
       "      <td>4</td>\n",
       "    </tr>\n",
       "    <tr>\n",
       "      <th>22</th>\n",
       "      <td>20:06:00</td>\n",
       "      <td>2</td>\n",
       "    </tr>\n",
       "    <tr>\n",
       "      <th>25</th>\n",
       "      <td>20:07:00</td>\n",
       "      <td>2</td>\n",
       "    </tr>\n",
       "    <tr>\n",
       "      <th>10</th>\n",
       "      <td>20:08:00</td>\n",
       "      <td>3</td>\n",
       "    </tr>\n",
       "    <tr>\n",
       "      <th>7</th>\n",
       "      <td>20:09:00</td>\n",
       "      <td>4</td>\n",
       "    </tr>\n",
       "    <tr>\n",
       "      <th>0</th>\n",
       "      <td>20:10:00</td>\n",
       "      <td>5</td>\n",
       "    </tr>\n",
       "    <tr>\n",
       "      <th>28</th>\n",
       "      <td>20:12:00</td>\n",
       "      <td>2</td>\n",
       "    </tr>\n",
       "    <tr>\n",
       "      <th>12</th>\n",
       "      <td>20:13:00</td>\n",
       "      <td>3</td>\n",
       "    </tr>\n",
       "    <tr>\n",
       "      <th>23</th>\n",
       "      <td>20:14:00</td>\n",
       "      <td>2</td>\n",
       "    </tr>\n",
       "    <tr>\n",
       "      <th>4</th>\n",
       "      <td>20:15:00</td>\n",
       "      <td>4</td>\n",
       "    </tr>\n",
       "    <tr>\n",
       "      <th>26</th>\n",
       "      <td>20:16:00</td>\n",
       "      <td>2</td>\n",
       "    </tr>\n",
       "    <tr>\n",
       "      <th>32</th>\n",
       "      <td>20:17:00</td>\n",
       "      <td>1</td>\n",
       "    </tr>\n",
       "    <tr>\n",
       "      <th>27</th>\n",
       "      <td>20:18:00</td>\n",
       "      <td>2</td>\n",
       "    </tr>\n",
       "  </tbody>\n",
       "</table>\n",
       "</div>"
      ],
      "text/plain": [
       "        hora  cnt\n",
       "8   19:43:00    4\n",
       "16  19:44:00    3\n",
       "2   19:45:00    5\n",
       "24  19:46:00    2\n",
       "15  19:47:00    3\n",
       "13  19:48:00    3\n",
       "14  19:49:00    3\n",
       "34  19:50:00    1\n",
       "9   19:51:00    4\n",
       "17  19:52:00    3\n",
       "19  19:53:00    3\n",
       "20  19:54:00    3\n",
       "29  19:55:00    2\n",
       "30  19:56:00    1\n",
       "33  19:57:00    1\n",
       "18  19:58:00    3\n",
       "3   19:59:00    4\n",
       "6   20:00:00    4\n",
       "11  20:01:00    3\n",
       "21  20:02:00    3\n",
       "31  20:03:00    1\n",
       "1   20:04:00    5\n",
       "5   20:05:00    4\n",
       "22  20:06:00    2\n",
       "25  20:07:00    2\n",
       "10  20:08:00    3\n",
       "7   20:09:00    4\n",
       "0   20:10:00    5\n",
       "28  20:12:00    2\n",
       "12  20:13:00    3\n",
       "23  20:14:00    2\n",
       "4   20:15:00    4\n",
       "26  20:16:00    2\n",
       "32  20:17:00    1\n",
       "27  20:18:00    2"
      ]
     },
     "execution_count": 14,
     "metadata": {},
     "output_type": "execute_result"
    }
   ],
   "source": [
    "data['hora'] = data['date'].dt.floor('T').dt.time\n",
    "temp = pd.DataFrame(data.hora.value_counts()).reset_index()\n",
    "temp.columns = ['hora', 'cnt']\n",
    "temp = temp.sort_values('hora')\n",
    "temp"
   ]
  },
  {
   "cell_type": "markdown",
   "metadata": {},
   "source": [
    "###  `[25 pts]` Punto 2: Hacer una visualización sobre esos tuits"
   ]
  },
  {
   "cell_type": "code",
   "execution_count": 15,
   "metadata": {},
   "outputs": [
    {
     "data": {
      "text/html": [
       "        <script type=\"text/javascript\">\n",
       "        window.PlotlyConfig = {MathJaxConfig: 'local'};\n",
       "        if (window.MathJax) {MathJax.Hub.Config({SVG: {font: \"STIX-Web\"}});}\n",
       "        if (typeof require !== 'undefined') {\n",
       "        require.undef(\"plotly\");\n",
       "        requirejs.config({\n",
       "            paths: {\n",
       "                'plotly': ['https://cdn.plot.ly/plotly-latest.min']\n",
       "            }\n",
       "        });\n",
       "        require(['plotly'], function(Plotly) {\n",
       "            window._Plotly = Plotly;\n",
       "        });\n",
       "        }\n",
       "        </script>\n",
       "        "
      ]
     },
     "metadata": {},
     "output_type": "display_data"
    }
   ],
   "source": [
    "import plotly.io as pio\n",
    "import plotly.express as px\n",
    "import plotly.graph_objs as go\n",
    "from plotly.offline import download_plotlyjs, init_notebook_mode, plot, iplot\n",
    "\n",
    "import matplotlib.pyplot as plt\n",
    "%matplotlib inline\n",
    "init_notebook_mode(connected=True)"
   ]
  },
  {
   "cell_type": "code",
   "execution_count": 16,
   "metadata": {},
   "outputs": [
    {
     "data": {
      "application/vnd.plotly.v1+json": {
       "config": {
        "linkText": "Export to plot.ly",
        "plotlyServerURL": "https://plot.ly",
        "showLink": false
       },
       "data": [
        {
         "hoverinfo": "text",
         "line": {
          "color": "blue"
         },
         "mode": "lines+markers",
         "name": "Horas",
         "text": [
          "Fecha: 19:43:00<br>Tuits: 4",
          "Fecha: 19:44:00<br>Tuits: 3",
          "Fecha: 19:45:00<br>Tuits: 5",
          "Fecha: 19:46:00<br>Tuits: 2",
          "Fecha: 19:47:00<br>Tuits: 3",
          "Fecha: 19:48:00<br>Tuits: 3",
          "Fecha: 19:49:00<br>Tuits: 3",
          "Fecha: 19:50:00<br>Tuits: 1",
          "Fecha: 19:51:00<br>Tuits: 4",
          "Fecha: 19:52:00<br>Tuits: 3",
          "Fecha: 19:53:00<br>Tuits: 3",
          "Fecha: 19:54:00<br>Tuits: 3",
          "Fecha: 19:55:00<br>Tuits: 2",
          "Fecha: 19:56:00<br>Tuits: 1",
          "Fecha: 19:57:00<br>Tuits: 1",
          "Fecha: 19:58:00<br>Tuits: 3",
          "Fecha: 19:59:00<br>Tuits: 4",
          "Fecha: 20:00:00<br>Tuits: 4",
          "Fecha: 20:01:00<br>Tuits: 3",
          "Fecha: 20:02:00<br>Tuits: 3",
          "Fecha: 20:03:00<br>Tuits: 1",
          "Fecha: 20:04:00<br>Tuits: 5",
          "Fecha: 20:05:00<br>Tuits: 4",
          "Fecha: 20:06:00<br>Tuits: 2",
          "Fecha: 20:07:00<br>Tuits: 2",
          "Fecha: 20:08:00<br>Tuits: 3",
          "Fecha: 20:09:00<br>Tuits: 4",
          "Fecha: 20:10:00<br>Tuits: 5",
          "Fecha: 20:12:00<br>Tuits: 2",
          "Fecha: 20:13:00<br>Tuits: 3",
          "Fecha: 20:14:00<br>Tuits: 2",
          "Fecha: 20:15:00<br>Tuits: 4",
          "Fecha: 20:16:00<br>Tuits: 2",
          "Fecha: 20:17:00<br>Tuits: 1",
          "Fecha: 20:18:00<br>Tuits: 2"
         ],
         "type": "scatter",
         "x": [
          "19:43:00",
          "19:44:00",
          "19:45:00",
          "19:46:00",
          "19:47:00",
          "19:48:00",
          "19:49:00",
          "19:50:00",
          "19:51:00",
          "19:52:00",
          "19:53:00",
          "19:54:00",
          "19:55:00",
          "19:56:00",
          "19:57:00",
          "19:58:00",
          "19:59:00",
          "20:00:00",
          "20:01:00",
          "20:02:00",
          "20:03:00",
          "20:04:00",
          "20:05:00",
          "20:06:00",
          "20:07:00",
          "20:08:00",
          "20:09:00",
          "20:10:00",
          "20:12:00",
          "20:13:00",
          "20:14:00",
          "20:15:00",
          "20:16:00",
          "20:17:00",
          "20:18:00"
         ],
         "y": [
          4,
          3,
          5,
          2,
          3,
          3,
          3,
          1,
          4,
          3,
          3,
          3,
          2,
          1,
          1,
          3,
          4,
          4,
          3,
          3,
          1,
          5,
          4,
          2,
          2,
          3,
          4,
          5,
          2,
          3,
          2,
          4,
          2,
          1,
          2
         ]
        }
       ],
       "layout": {
        "template": {
         "data": {
          "bar": [
           {
            "error_x": {
             "color": "#2a3f5f"
            },
            "error_y": {
             "color": "#2a3f5f"
            },
            "marker": {
             "line": {
              "color": "#E5ECF6",
              "width": 0.5
             }
            },
            "type": "bar"
           }
          ],
          "barpolar": [
           {
            "marker": {
             "line": {
              "color": "#E5ECF6",
              "width": 0.5
             }
            },
            "type": "barpolar"
           }
          ],
          "carpet": [
           {
            "aaxis": {
             "endlinecolor": "#2a3f5f",
             "gridcolor": "white",
             "linecolor": "white",
             "minorgridcolor": "white",
             "startlinecolor": "#2a3f5f"
            },
            "baxis": {
             "endlinecolor": "#2a3f5f",
             "gridcolor": "white",
             "linecolor": "white",
             "minorgridcolor": "white",
             "startlinecolor": "#2a3f5f"
            },
            "type": "carpet"
           }
          ],
          "choropleth": [
           {
            "colorbar": {
             "outlinewidth": 0,
             "ticks": ""
            },
            "type": "choropleth"
           }
          ],
          "contour": [
           {
            "colorbar": {
             "outlinewidth": 0,
             "ticks": ""
            },
            "colorscale": [
             [
              0,
              "#0d0887"
             ],
             [
              0.1111111111111111,
              "#46039f"
             ],
             [
              0.2222222222222222,
              "#7201a8"
             ],
             [
              0.3333333333333333,
              "#9c179e"
             ],
             [
              0.4444444444444444,
              "#bd3786"
             ],
             [
              0.5555555555555556,
              "#d8576b"
             ],
             [
              0.6666666666666666,
              "#ed7953"
             ],
             [
              0.7777777777777778,
              "#fb9f3a"
             ],
             [
              0.8888888888888888,
              "#fdca26"
             ],
             [
              1,
              "#f0f921"
             ]
            ],
            "type": "contour"
           }
          ],
          "contourcarpet": [
           {
            "colorbar": {
             "outlinewidth": 0,
             "ticks": ""
            },
            "type": "contourcarpet"
           }
          ],
          "heatmap": [
           {
            "colorbar": {
             "outlinewidth": 0,
             "ticks": ""
            },
            "colorscale": [
             [
              0,
              "#0d0887"
             ],
             [
              0.1111111111111111,
              "#46039f"
             ],
             [
              0.2222222222222222,
              "#7201a8"
             ],
             [
              0.3333333333333333,
              "#9c179e"
             ],
             [
              0.4444444444444444,
              "#bd3786"
             ],
             [
              0.5555555555555556,
              "#d8576b"
             ],
             [
              0.6666666666666666,
              "#ed7953"
             ],
             [
              0.7777777777777778,
              "#fb9f3a"
             ],
             [
              0.8888888888888888,
              "#fdca26"
             ],
             [
              1,
              "#f0f921"
             ]
            ],
            "type": "heatmap"
           }
          ],
          "heatmapgl": [
           {
            "colorbar": {
             "outlinewidth": 0,
             "ticks": ""
            },
            "colorscale": [
             [
              0,
              "#0d0887"
             ],
             [
              0.1111111111111111,
              "#46039f"
             ],
             [
              0.2222222222222222,
              "#7201a8"
             ],
             [
              0.3333333333333333,
              "#9c179e"
             ],
             [
              0.4444444444444444,
              "#bd3786"
             ],
             [
              0.5555555555555556,
              "#d8576b"
             ],
             [
              0.6666666666666666,
              "#ed7953"
             ],
             [
              0.7777777777777778,
              "#fb9f3a"
             ],
             [
              0.8888888888888888,
              "#fdca26"
             ],
             [
              1,
              "#f0f921"
             ]
            ],
            "type": "heatmapgl"
           }
          ],
          "histogram": [
           {
            "marker": {
             "colorbar": {
              "outlinewidth": 0,
              "ticks": ""
             }
            },
            "type": "histogram"
           }
          ],
          "histogram2d": [
           {
            "colorbar": {
             "outlinewidth": 0,
             "ticks": ""
            },
            "colorscale": [
             [
              0,
              "#0d0887"
             ],
             [
              0.1111111111111111,
              "#46039f"
             ],
             [
              0.2222222222222222,
              "#7201a8"
             ],
             [
              0.3333333333333333,
              "#9c179e"
             ],
             [
              0.4444444444444444,
              "#bd3786"
             ],
             [
              0.5555555555555556,
              "#d8576b"
             ],
             [
              0.6666666666666666,
              "#ed7953"
             ],
             [
              0.7777777777777778,
              "#fb9f3a"
             ],
             [
              0.8888888888888888,
              "#fdca26"
             ],
             [
              1,
              "#f0f921"
             ]
            ],
            "type": "histogram2d"
           }
          ],
          "histogram2dcontour": [
           {
            "colorbar": {
             "outlinewidth": 0,
             "ticks": ""
            },
            "colorscale": [
             [
              0,
              "#0d0887"
             ],
             [
              0.1111111111111111,
              "#46039f"
             ],
             [
              0.2222222222222222,
              "#7201a8"
             ],
             [
              0.3333333333333333,
              "#9c179e"
             ],
             [
              0.4444444444444444,
              "#bd3786"
             ],
             [
              0.5555555555555556,
              "#d8576b"
             ],
             [
              0.6666666666666666,
              "#ed7953"
             ],
             [
              0.7777777777777778,
              "#fb9f3a"
             ],
             [
              0.8888888888888888,
              "#fdca26"
             ],
             [
              1,
              "#f0f921"
             ]
            ],
            "type": "histogram2dcontour"
           }
          ],
          "mesh3d": [
           {
            "colorbar": {
             "outlinewidth": 0,
             "ticks": ""
            },
            "type": "mesh3d"
           }
          ],
          "parcoords": [
           {
            "line": {
             "colorbar": {
              "outlinewidth": 0,
              "ticks": ""
             }
            },
            "type": "parcoords"
           }
          ],
          "pie": [
           {
            "automargin": true,
            "type": "pie"
           }
          ],
          "scatter": [
           {
            "marker": {
             "colorbar": {
              "outlinewidth": 0,
              "ticks": ""
             }
            },
            "type": "scatter"
           }
          ],
          "scatter3d": [
           {
            "line": {
             "colorbar": {
              "outlinewidth": 0,
              "ticks": ""
             }
            },
            "marker": {
             "colorbar": {
              "outlinewidth": 0,
              "ticks": ""
             }
            },
            "type": "scatter3d"
           }
          ],
          "scattercarpet": [
           {
            "marker": {
             "colorbar": {
              "outlinewidth": 0,
              "ticks": ""
             }
            },
            "type": "scattercarpet"
           }
          ],
          "scattergeo": [
           {
            "marker": {
             "colorbar": {
              "outlinewidth": 0,
              "ticks": ""
             }
            },
            "type": "scattergeo"
           }
          ],
          "scattergl": [
           {
            "marker": {
             "colorbar": {
              "outlinewidth": 0,
              "ticks": ""
             }
            },
            "type": "scattergl"
           }
          ],
          "scattermapbox": [
           {
            "marker": {
             "colorbar": {
              "outlinewidth": 0,
              "ticks": ""
             }
            },
            "type": "scattermapbox"
           }
          ],
          "scatterpolar": [
           {
            "marker": {
             "colorbar": {
              "outlinewidth": 0,
              "ticks": ""
             }
            },
            "type": "scatterpolar"
           }
          ],
          "scatterpolargl": [
           {
            "marker": {
             "colorbar": {
              "outlinewidth": 0,
              "ticks": ""
             }
            },
            "type": "scatterpolargl"
           }
          ],
          "scatterternary": [
           {
            "marker": {
             "colorbar": {
              "outlinewidth": 0,
              "ticks": ""
             }
            },
            "type": "scatterternary"
           }
          ],
          "surface": [
           {
            "colorbar": {
             "outlinewidth": 0,
             "ticks": ""
            },
            "colorscale": [
             [
              0,
              "#0d0887"
             ],
             [
              0.1111111111111111,
              "#46039f"
             ],
             [
              0.2222222222222222,
              "#7201a8"
             ],
             [
              0.3333333333333333,
              "#9c179e"
             ],
             [
              0.4444444444444444,
              "#bd3786"
             ],
             [
              0.5555555555555556,
              "#d8576b"
             ],
             [
              0.6666666666666666,
              "#ed7953"
             ],
             [
              0.7777777777777778,
              "#fb9f3a"
             ],
             [
              0.8888888888888888,
              "#fdca26"
             ],
             [
              1,
              "#f0f921"
             ]
            ],
            "type": "surface"
           }
          ],
          "table": [
           {
            "cells": {
             "fill": {
              "color": "#EBF0F8"
             },
             "line": {
              "color": "white"
             }
            },
            "header": {
             "fill": {
              "color": "#C8D4E3"
             },
             "line": {
              "color": "white"
             }
            },
            "type": "table"
           }
          ]
         },
         "layout": {
          "annotationdefaults": {
           "arrowcolor": "#2a3f5f",
           "arrowhead": 0,
           "arrowwidth": 1
          },
          "autotypenumbers": "strict",
          "coloraxis": {
           "colorbar": {
            "outlinewidth": 0,
            "ticks": ""
           }
          },
          "colorscale": {
           "diverging": [
            [
             0,
             "#8e0152"
            ],
            [
             0.1,
             "#c51b7d"
            ],
            [
             0.2,
             "#de77ae"
            ],
            [
             0.3,
             "#f1b6da"
            ],
            [
             0.4,
             "#fde0ef"
            ],
            [
             0.5,
             "#f7f7f7"
            ],
            [
             0.6,
             "#e6f5d0"
            ],
            [
             0.7,
             "#b8e186"
            ],
            [
             0.8,
             "#7fbc41"
            ],
            [
             0.9,
             "#4d9221"
            ],
            [
             1,
             "#276419"
            ]
           ],
           "sequential": [
            [
             0,
             "#0d0887"
            ],
            [
             0.1111111111111111,
             "#46039f"
            ],
            [
             0.2222222222222222,
             "#7201a8"
            ],
            [
             0.3333333333333333,
             "#9c179e"
            ],
            [
             0.4444444444444444,
             "#bd3786"
            ],
            [
             0.5555555555555556,
             "#d8576b"
            ],
            [
             0.6666666666666666,
             "#ed7953"
            ],
            [
             0.7777777777777778,
             "#fb9f3a"
            ],
            [
             0.8888888888888888,
             "#fdca26"
            ],
            [
             1,
             "#f0f921"
            ]
           ],
           "sequentialminus": [
            [
             0,
             "#0d0887"
            ],
            [
             0.1111111111111111,
             "#46039f"
            ],
            [
             0.2222222222222222,
             "#7201a8"
            ],
            [
             0.3333333333333333,
             "#9c179e"
            ],
            [
             0.4444444444444444,
             "#bd3786"
            ],
            [
             0.5555555555555556,
             "#d8576b"
            ],
            [
             0.6666666666666666,
             "#ed7953"
            ],
            [
             0.7777777777777778,
             "#fb9f3a"
            ],
            [
             0.8888888888888888,
             "#fdca26"
            ],
            [
             1,
             "#f0f921"
            ]
           ]
          },
          "colorway": [
           "#636efa",
           "#EF553B",
           "#00cc96",
           "#ab63fa",
           "#FFA15A",
           "#19d3f3",
           "#FF6692",
           "#B6E880",
           "#FF97FF",
           "#FECB52"
          ],
          "font": {
           "color": "#2a3f5f"
          },
          "geo": {
           "bgcolor": "white",
           "lakecolor": "white",
           "landcolor": "#E5ECF6",
           "showlakes": true,
           "showland": true,
           "subunitcolor": "white"
          },
          "hoverlabel": {
           "align": "left"
          },
          "hovermode": "closest",
          "mapbox": {
           "style": "light"
          },
          "paper_bgcolor": "white",
          "plot_bgcolor": "#E5ECF6",
          "polar": {
           "angularaxis": {
            "gridcolor": "white",
            "linecolor": "white",
            "ticks": ""
           },
           "bgcolor": "#E5ECF6",
           "radialaxis": {
            "gridcolor": "white",
            "linecolor": "white",
            "ticks": ""
           }
          },
          "scene": {
           "xaxis": {
            "backgroundcolor": "#E5ECF6",
            "gridcolor": "white",
            "gridwidth": 2,
            "linecolor": "white",
            "showbackground": true,
            "ticks": "",
            "zerolinecolor": "white"
           },
           "yaxis": {
            "backgroundcolor": "#E5ECF6",
            "gridcolor": "white",
            "gridwidth": 2,
            "linecolor": "white",
            "showbackground": true,
            "ticks": "",
            "zerolinecolor": "white"
           },
           "zaxis": {
            "backgroundcolor": "#E5ECF6",
            "gridcolor": "white",
            "gridwidth": 2,
            "linecolor": "white",
            "showbackground": true,
            "ticks": "",
            "zerolinecolor": "white"
           }
          },
          "shapedefaults": {
           "line": {
            "color": "#2a3f5f"
           }
          },
          "ternary": {
           "aaxis": {
            "gridcolor": "white",
            "linecolor": "white",
            "ticks": ""
           },
           "baxis": {
            "gridcolor": "white",
            "linecolor": "white",
            "ticks": ""
           },
           "bgcolor": "#E5ECF6",
           "caxis": {
            "gridcolor": "white",
            "linecolor": "white",
            "ticks": ""
           }
          },
          "title": {
           "x": 0.05
          },
          "xaxis": {
           "automargin": true,
           "gridcolor": "white",
           "linecolor": "white",
           "ticks": "",
           "title": {
            "standoff": 15
           },
           "zerolinecolor": "white",
           "zerolinewidth": 2
          },
          "yaxis": {
           "automargin": true,
           "gridcolor": "white",
           "linecolor": "white",
           "ticks": "",
           "title": {
            "standoff": 15
           },
           "zerolinecolor": "white",
           "zerolinewidth": 2
          }
         }
        },
        "title": {
         "text": "Número de tuits por hora"
        }
       }
      },
      "text/html": [
       "<div>                            <div id=\"36f474cf-7e64-444a-bba3-30c0a81c8484\" class=\"plotly-graph-div\" style=\"height:525px; width:100%;\"></div>            <script type=\"text/javascript\">                require([\"plotly\"], function(Plotly) {                    window.PLOTLYENV=window.PLOTLYENV || {};                                    if (document.getElementById(\"36f474cf-7e64-444a-bba3-30c0a81c8484\")) {                    Plotly.newPlot(                        \"36f474cf-7e64-444a-bba3-30c0a81c8484\",                        [{\"hoverinfo\": \"text\", \"line\": {\"color\": \"blue\"}, \"mode\": \"lines+markers\", \"name\": \"Horas\", \"text\": [\"Fecha: 19:43:00<br>Tuits: 4\", \"Fecha: 19:44:00<br>Tuits: 3\", \"Fecha: 19:45:00<br>Tuits: 5\", \"Fecha: 19:46:00<br>Tuits: 2\", \"Fecha: 19:47:00<br>Tuits: 3\", \"Fecha: 19:48:00<br>Tuits: 3\", \"Fecha: 19:49:00<br>Tuits: 3\", \"Fecha: 19:50:00<br>Tuits: 1\", \"Fecha: 19:51:00<br>Tuits: 4\", \"Fecha: 19:52:00<br>Tuits: 3\", \"Fecha: 19:53:00<br>Tuits: 3\", \"Fecha: 19:54:00<br>Tuits: 3\", \"Fecha: 19:55:00<br>Tuits: 2\", \"Fecha: 19:56:00<br>Tuits: 1\", \"Fecha: 19:57:00<br>Tuits: 1\", \"Fecha: 19:58:00<br>Tuits: 3\", \"Fecha: 19:59:00<br>Tuits: 4\", \"Fecha: 20:00:00<br>Tuits: 4\", \"Fecha: 20:01:00<br>Tuits: 3\", \"Fecha: 20:02:00<br>Tuits: 3\", \"Fecha: 20:03:00<br>Tuits: 1\", \"Fecha: 20:04:00<br>Tuits: 5\", \"Fecha: 20:05:00<br>Tuits: 4\", \"Fecha: 20:06:00<br>Tuits: 2\", \"Fecha: 20:07:00<br>Tuits: 2\", \"Fecha: 20:08:00<br>Tuits: 3\", \"Fecha: 20:09:00<br>Tuits: 4\", \"Fecha: 20:10:00<br>Tuits: 5\", \"Fecha: 20:12:00<br>Tuits: 2\", \"Fecha: 20:13:00<br>Tuits: 3\", \"Fecha: 20:14:00<br>Tuits: 2\", \"Fecha: 20:15:00<br>Tuits: 4\", \"Fecha: 20:16:00<br>Tuits: 2\", \"Fecha: 20:17:00<br>Tuits: 1\", \"Fecha: 20:18:00<br>Tuits: 2\"], \"type\": \"scatter\", \"x\": [\"19:43:00\", \"19:44:00\", \"19:45:00\", \"19:46:00\", \"19:47:00\", \"19:48:00\", \"19:49:00\", \"19:50:00\", \"19:51:00\", \"19:52:00\", \"19:53:00\", \"19:54:00\", \"19:55:00\", \"19:56:00\", \"19:57:00\", \"19:58:00\", \"19:59:00\", \"20:00:00\", \"20:01:00\", \"20:02:00\", \"20:03:00\", \"20:04:00\", \"20:05:00\", \"20:06:00\", \"20:07:00\", \"20:08:00\", \"20:09:00\", \"20:10:00\", \"20:12:00\", \"20:13:00\", \"20:14:00\", \"20:15:00\", \"20:16:00\", \"20:17:00\", \"20:18:00\"], \"y\": [4, 3, 5, 2, 3, 3, 3, 1, 4, 3, 3, 3, 2, 1, 1, 3, 4, 4, 3, 3, 1, 5, 4, 2, 2, 3, 4, 5, 2, 3, 2, 4, 2, 1, 2]}],                        {\"template\": {\"data\": {\"bar\": [{\"error_x\": {\"color\": \"#2a3f5f\"}, \"error_y\": {\"color\": \"#2a3f5f\"}, \"marker\": {\"line\": {\"color\": \"#E5ECF6\", \"width\": 0.5}}, \"type\": \"bar\"}], \"barpolar\": [{\"marker\": {\"line\": {\"color\": \"#E5ECF6\", \"width\": 0.5}}, \"type\": \"barpolar\"}], \"carpet\": [{\"aaxis\": {\"endlinecolor\": \"#2a3f5f\", \"gridcolor\": \"white\", \"linecolor\": \"white\", \"minorgridcolor\": \"white\", \"startlinecolor\": \"#2a3f5f\"}, \"baxis\": {\"endlinecolor\": \"#2a3f5f\", \"gridcolor\": \"white\", \"linecolor\": \"white\", \"minorgridcolor\": \"white\", \"startlinecolor\": \"#2a3f5f\"}, \"type\": \"carpet\"}], \"choropleth\": [{\"colorbar\": {\"outlinewidth\": 0, \"ticks\": \"\"}, \"type\": \"choropleth\"}], \"contour\": [{\"colorbar\": {\"outlinewidth\": 0, \"ticks\": \"\"}, \"colorscale\": [[0.0, \"#0d0887\"], [0.1111111111111111, \"#46039f\"], [0.2222222222222222, \"#7201a8\"], [0.3333333333333333, \"#9c179e\"], [0.4444444444444444, \"#bd3786\"], [0.5555555555555556, \"#d8576b\"], [0.6666666666666666, \"#ed7953\"], [0.7777777777777778, \"#fb9f3a\"], [0.8888888888888888, \"#fdca26\"], [1.0, \"#f0f921\"]], \"type\": \"contour\"}], \"contourcarpet\": [{\"colorbar\": {\"outlinewidth\": 0, \"ticks\": \"\"}, \"type\": \"contourcarpet\"}], \"heatmap\": [{\"colorbar\": {\"outlinewidth\": 0, \"ticks\": \"\"}, \"colorscale\": [[0.0, \"#0d0887\"], [0.1111111111111111, \"#46039f\"], [0.2222222222222222, \"#7201a8\"], [0.3333333333333333, \"#9c179e\"], [0.4444444444444444, \"#bd3786\"], [0.5555555555555556, \"#d8576b\"], [0.6666666666666666, \"#ed7953\"], [0.7777777777777778, \"#fb9f3a\"], [0.8888888888888888, \"#fdca26\"], [1.0, \"#f0f921\"]], \"type\": \"heatmap\"}], \"heatmapgl\": [{\"colorbar\": {\"outlinewidth\": 0, \"ticks\": \"\"}, \"colorscale\": [[0.0, \"#0d0887\"], [0.1111111111111111, \"#46039f\"], [0.2222222222222222, \"#7201a8\"], [0.3333333333333333, \"#9c179e\"], [0.4444444444444444, \"#bd3786\"], [0.5555555555555556, \"#d8576b\"], [0.6666666666666666, \"#ed7953\"], [0.7777777777777778, \"#fb9f3a\"], [0.8888888888888888, \"#fdca26\"], [1.0, \"#f0f921\"]], \"type\": \"heatmapgl\"}], \"histogram\": [{\"marker\": {\"colorbar\": {\"outlinewidth\": 0, \"ticks\": \"\"}}, \"type\": \"histogram\"}], \"histogram2d\": [{\"colorbar\": {\"outlinewidth\": 0, \"ticks\": \"\"}, \"colorscale\": [[0.0, \"#0d0887\"], [0.1111111111111111, \"#46039f\"], [0.2222222222222222, \"#7201a8\"], [0.3333333333333333, \"#9c179e\"], [0.4444444444444444, \"#bd3786\"], [0.5555555555555556, \"#d8576b\"], [0.6666666666666666, \"#ed7953\"], [0.7777777777777778, \"#fb9f3a\"], [0.8888888888888888, \"#fdca26\"], [1.0, \"#f0f921\"]], \"type\": \"histogram2d\"}], \"histogram2dcontour\": [{\"colorbar\": {\"outlinewidth\": 0, \"ticks\": \"\"}, \"colorscale\": [[0.0, \"#0d0887\"], [0.1111111111111111, \"#46039f\"], [0.2222222222222222, \"#7201a8\"], [0.3333333333333333, \"#9c179e\"], [0.4444444444444444, \"#bd3786\"], [0.5555555555555556, \"#d8576b\"], [0.6666666666666666, \"#ed7953\"], [0.7777777777777778, \"#fb9f3a\"], [0.8888888888888888, \"#fdca26\"], [1.0, \"#f0f921\"]], \"type\": \"histogram2dcontour\"}], \"mesh3d\": [{\"colorbar\": {\"outlinewidth\": 0, \"ticks\": \"\"}, \"type\": \"mesh3d\"}], \"parcoords\": [{\"line\": {\"colorbar\": {\"outlinewidth\": 0, \"ticks\": \"\"}}, \"type\": \"parcoords\"}], \"pie\": [{\"automargin\": true, \"type\": \"pie\"}], \"scatter\": [{\"marker\": {\"colorbar\": {\"outlinewidth\": 0, \"ticks\": \"\"}}, \"type\": \"scatter\"}], \"scatter3d\": [{\"line\": {\"colorbar\": {\"outlinewidth\": 0, \"ticks\": \"\"}}, \"marker\": {\"colorbar\": {\"outlinewidth\": 0, \"ticks\": \"\"}}, \"type\": \"scatter3d\"}], \"scattercarpet\": [{\"marker\": {\"colorbar\": {\"outlinewidth\": 0, \"ticks\": \"\"}}, \"type\": \"scattercarpet\"}], \"scattergeo\": [{\"marker\": {\"colorbar\": {\"outlinewidth\": 0, \"ticks\": \"\"}}, \"type\": \"scattergeo\"}], \"scattergl\": [{\"marker\": {\"colorbar\": {\"outlinewidth\": 0, \"ticks\": \"\"}}, \"type\": \"scattergl\"}], \"scattermapbox\": [{\"marker\": {\"colorbar\": {\"outlinewidth\": 0, \"ticks\": \"\"}}, \"type\": \"scattermapbox\"}], \"scatterpolar\": [{\"marker\": {\"colorbar\": {\"outlinewidth\": 0, \"ticks\": \"\"}}, \"type\": \"scatterpolar\"}], \"scatterpolargl\": [{\"marker\": {\"colorbar\": {\"outlinewidth\": 0, \"ticks\": \"\"}}, \"type\": \"scatterpolargl\"}], \"scatterternary\": [{\"marker\": {\"colorbar\": {\"outlinewidth\": 0, \"ticks\": \"\"}}, \"type\": \"scatterternary\"}], \"surface\": [{\"colorbar\": {\"outlinewidth\": 0, \"ticks\": \"\"}, \"colorscale\": [[0.0, \"#0d0887\"], [0.1111111111111111, \"#46039f\"], [0.2222222222222222, \"#7201a8\"], [0.3333333333333333, \"#9c179e\"], [0.4444444444444444, \"#bd3786\"], [0.5555555555555556, \"#d8576b\"], [0.6666666666666666, \"#ed7953\"], [0.7777777777777778, \"#fb9f3a\"], [0.8888888888888888, \"#fdca26\"], [1.0, \"#f0f921\"]], \"type\": \"surface\"}], \"table\": [{\"cells\": {\"fill\": {\"color\": \"#EBF0F8\"}, \"line\": {\"color\": \"white\"}}, \"header\": {\"fill\": {\"color\": \"#C8D4E3\"}, \"line\": {\"color\": \"white\"}}, \"type\": \"table\"}]}, \"layout\": {\"annotationdefaults\": {\"arrowcolor\": \"#2a3f5f\", \"arrowhead\": 0, \"arrowwidth\": 1}, \"autotypenumbers\": \"strict\", \"coloraxis\": {\"colorbar\": {\"outlinewidth\": 0, \"ticks\": \"\"}}, \"colorscale\": {\"diverging\": [[0, \"#8e0152\"], [0.1, \"#c51b7d\"], [0.2, \"#de77ae\"], [0.3, \"#f1b6da\"], [0.4, \"#fde0ef\"], [0.5, \"#f7f7f7\"], [0.6, \"#e6f5d0\"], [0.7, \"#b8e186\"], [0.8, \"#7fbc41\"], [0.9, \"#4d9221\"], [1, \"#276419\"]], \"sequential\": [[0.0, \"#0d0887\"], [0.1111111111111111, \"#46039f\"], [0.2222222222222222, \"#7201a8\"], [0.3333333333333333, \"#9c179e\"], [0.4444444444444444, \"#bd3786\"], [0.5555555555555556, \"#d8576b\"], [0.6666666666666666, \"#ed7953\"], [0.7777777777777778, \"#fb9f3a\"], [0.8888888888888888, \"#fdca26\"], [1.0, \"#f0f921\"]], \"sequentialminus\": [[0.0, \"#0d0887\"], [0.1111111111111111, \"#46039f\"], [0.2222222222222222, \"#7201a8\"], [0.3333333333333333, \"#9c179e\"], [0.4444444444444444, \"#bd3786\"], [0.5555555555555556, \"#d8576b\"], [0.6666666666666666, \"#ed7953\"], [0.7777777777777778, \"#fb9f3a\"], [0.8888888888888888, \"#fdca26\"], [1.0, \"#f0f921\"]]}, \"colorway\": [\"#636efa\", \"#EF553B\", \"#00cc96\", \"#ab63fa\", \"#FFA15A\", \"#19d3f3\", \"#FF6692\", \"#B6E880\", \"#FF97FF\", \"#FECB52\"], \"font\": {\"color\": \"#2a3f5f\"}, \"geo\": {\"bgcolor\": \"white\", \"lakecolor\": \"white\", \"landcolor\": \"#E5ECF6\", \"showlakes\": true, \"showland\": true, \"subunitcolor\": \"white\"}, \"hoverlabel\": {\"align\": \"left\"}, \"hovermode\": \"closest\", \"mapbox\": {\"style\": \"light\"}, \"paper_bgcolor\": \"white\", \"plot_bgcolor\": \"#E5ECF6\", \"polar\": {\"angularaxis\": {\"gridcolor\": \"white\", \"linecolor\": \"white\", \"ticks\": \"\"}, \"bgcolor\": \"#E5ECF6\", \"radialaxis\": {\"gridcolor\": \"white\", \"linecolor\": \"white\", \"ticks\": \"\"}}, \"scene\": {\"xaxis\": {\"backgroundcolor\": \"#E5ECF6\", \"gridcolor\": \"white\", \"gridwidth\": 2, \"linecolor\": \"white\", \"showbackground\": true, \"ticks\": \"\", \"zerolinecolor\": \"white\"}, \"yaxis\": {\"backgroundcolor\": \"#E5ECF6\", \"gridcolor\": \"white\", \"gridwidth\": 2, \"linecolor\": \"white\", \"showbackground\": true, \"ticks\": \"\", \"zerolinecolor\": \"white\"}, \"zaxis\": {\"backgroundcolor\": \"#E5ECF6\", \"gridcolor\": \"white\", \"gridwidth\": 2, \"linecolor\": \"white\", \"showbackground\": true, \"ticks\": \"\", \"zerolinecolor\": \"white\"}}, \"shapedefaults\": {\"line\": {\"color\": \"#2a3f5f\"}}, \"ternary\": {\"aaxis\": {\"gridcolor\": \"white\", \"linecolor\": \"white\", \"ticks\": \"\"}, \"baxis\": {\"gridcolor\": \"white\", \"linecolor\": \"white\", \"ticks\": \"\"}, \"bgcolor\": \"#E5ECF6\", \"caxis\": {\"gridcolor\": \"white\", \"linecolor\": \"white\", \"ticks\": \"\"}}, \"title\": {\"x\": 0.05}, \"xaxis\": {\"automargin\": true, \"gridcolor\": \"white\", \"linecolor\": \"white\", \"ticks\": \"\", \"title\": {\"standoff\": 15}, \"zerolinecolor\": \"white\", \"zerolinewidth\": 2}, \"yaxis\": {\"automargin\": true, \"gridcolor\": \"white\", \"linecolor\": \"white\", \"ticks\": \"\", \"title\": {\"standoff\": 15}, \"zerolinecolor\": \"white\", \"zerolinewidth\": 2}}}, \"title\": {\"text\": \"N\\u00famero de tuits por hora\"}},                        {\"responsive\": true}                    ).then(function(){\n",
       "                            \n",
       "var gd = document.getElementById('36f474cf-7e64-444a-bba3-30c0a81c8484');\n",
       "var x = new MutationObserver(function (mutations, observer) {{\n",
       "        var display = window.getComputedStyle(gd).display;\n",
       "        if (!display || display === 'none') {{\n",
       "            console.log([gd, 'removed!']);\n",
       "            Plotly.purge(gd);\n",
       "            observer.disconnect();\n",
       "        }}\n",
       "}});\n",
       "\n",
       "// Listen for the removal of the full notebook cells\n",
       "var notebookContainer = gd.closest('#notebook-container');\n",
       "if (notebookContainer) {{\n",
       "    x.observe(notebookContainer, {childList: true});\n",
       "}}\n",
       "\n",
       "// Listen for the clearing of the current output cell\n",
       "var outputEl = gd.closest('.output');\n",
       "if (outputEl) {{\n",
       "    x.observe(outputEl, {childList: true});\n",
       "}}\n",
       "\n",
       "                        })                };                });            </script>        </div>"
      ]
     },
     "metadata": {},
     "output_type": "display_data"
    }
   ],
   "source": [
    "trace = go.Scatter(x=temp.hora.values,\n",
    "                   y=temp.cnt.values,\n",
    "                   text=[f\"Fecha: {f}<br>Tuits: {c}\" for f,c in zip(temp.hora.values,temp.cnt.values)],\n",
    "                   hoverinfo='text',\n",
    "                   mode='lines+markers',\n",
    "                   name='Horas',\n",
    "                   line={'color': 'blue'})\n",
    "\n",
    "layout = go.Layout(title=\"Número de tuits por hora\")\n",
    "\n",
    "fig = go.Figure(data=[trace], layout=layout)\n",
    "iplot(fig)"
   ]
  },
  {
   "cell_type": "code",
   "execution_count": null,
   "metadata": {},
   "outputs": [],
   "source": []
  }
 ],
 "metadata": {
  "kernelspec": {
   "display_name": "Python 3",
   "language": "python",
   "name": "python3"
  },
  "language_info": {
   "codemirror_mode": {
    "name": "ipython",
    "version": 3
   },
   "file_extension": ".py",
   "mimetype": "text/x-python",
   "name": "python",
   "nbconvert_exporter": "python",
   "pygments_lexer": "ipython3",
   "version": "3.8.5"
  }
 },
 "nbformat": 4,
 "nbformat_minor": 2
}
