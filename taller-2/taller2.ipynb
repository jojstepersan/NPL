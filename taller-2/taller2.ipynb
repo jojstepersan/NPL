{
 "cells": [
  {
   "cell_type": "markdown",
   "metadata": {},
   "source": [
    "<img src='https://encrypted-tbn0.gstatic.com/images?q=tbn%3AANd9GcQ-VfNtOyJbsaxu43Kztf_cv1mgBG6ZIQZEVw&usqp=CAU'>\n",
    "\n",
    "# Procesamiento de Lenguage Natural\n",
    "\n",
    "## Taller #2: Adquisición de textos\n",
    "`Fecha de entrega: Marzo 4, 2021. (Antes del inicio de la próxima clase).`"
   ]
  },
  {
   "cell_type": "markdown",
   "metadata": {},
   "source": [
    "# Punto 1:\n",
    "\n",
    "- `[18 pts]` Descomprimir el archivo `.zip` de `python_books`\n",
    "- `[22 pts]` Leer cada uno de sus archivos\n",
    "- `[10 pts]` Responder: ¿Cuál archivo tiene el mayor número de palabras?"
   ]
  },
  {
   "cell_type": "code",
   "execution_count": 4,
   "metadata": {},
   "outputs": [],
   "source": [
    "from zipfile import ZipFile\n",
    "import fitz"
   ]
  },
  {
   "cell_type": "code",
   "execution_count": 3,
   "metadata": {},
   "outputs": [],
   "source": [
    "#Descomprimir el archivo .zip de python_books\n",
    "with ZipFile('python_books.zip') as zipf:\n",
    "    zipf.extractall()"
   ]
  },
  {
   "cell_type": "code",
   "execution_count": 18,
   "metadata": {},
   "outputs": [
    {
     "name": "stdout",
     "output_type": "stream",
     "text": [
      " vii PrefaceWith an increasing interest in leveraging cloud infrastructure around the world the AWS cloud from Amazon offers a cutting edge platform for architecting building and deploying web scale cloud applications through a user friendly interface The variety of features available within AWS can reduce overall infrastructure costs and accelerate the development process for both large enterprises and start ups alikeLearning AWS covers basic intermediate and advanced features and concepts  as they relate to designing developing and deploying scalable highly available  and secure applications on the AWS platform By sequentially working through  the steps in each chapter you will quickly master the features of AWS to create an enterprise grade cloud application We use a three tiered services oriented sample application for extensive hands on exercisesThis book will not only teach you about the AWS components but you will gain valuable information about key concepts such as multi tenancy auto scaling planning implementing application development environments addressing application security concerns and so on You will also learn how these concepts relate to cost effective architectural decisions while designing scalable highly available and secure AWS cloud applicationsA step by step approach to cloud application design and implementation is explained in a conversational and easy to follow style Each topic is explained sequentially in the process of creating an AWS cloud application Detailed explanations of the basic and advanced features of AWS that address the needs of readers with a wide range of real world experiences are also included Expert programmers and architects will appreciate the focus on the practice rather than the theory\n",
      "['vii', 'PrefaceWith', 'an', 'increasing', 'interest', 'in', 'leveraging', 'cloud', 'infrastructure', 'around', 'the', 'world', 'the', 'AWS', 'cloud', 'from', 'Amazon', 'offers', 'a', 'cutting', 'edge', 'platform', 'for', 'architecting', 'building', 'and', 'deploying', 'web', 'scale', 'cloud', 'applications', 'through', 'a', 'user', 'friendly', 'interface', 'The', 'variety', 'of', 'features', 'available', 'within', 'AWS', 'can', 'reduce', 'overall', 'infrastructure', 'costs', 'and', 'accelerate', 'the', 'development', 'process', 'for', 'both', 'large', 'enterprises', 'and', 'start', 'ups', 'alikeLearning', 'AWS', 'covers', 'basic', 'intermediate', 'and', 'advanced', 'features', 'and', 'concepts', 'as', 'they', 'relate', 'to', 'designing', 'developing', 'and', 'deploying', 'scalable', 'highly', 'available', 'and', 'secure', 'applications', 'on', 'the', 'AWS', 'platform', 'By', 'sequentially', 'working', 'through', 'the', 'steps', 'in', 'each', 'chapter', 'you', 'will', 'quickly', 'master', 'the', 'features', 'of', 'AWS', 'to', 'create', 'an', 'enterprise', 'grade', 'cloud', 'application', 'We', 'use', 'a', 'three', 'tiered', 'services', 'oriented', 'sample', 'application', 'for', 'extensive', 'hands', 'on', 'exercisesThis', 'book', 'will', 'not', 'only', 'teach', 'you', 'about', 'the', 'AWS', 'components', 'but', 'you', 'will', 'gain', 'valuable', 'information', 'about', 'key', 'concepts', 'such', 'as', 'multi', 'tenancy', 'auto', 'scaling', 'planning', 'implementing', 'application', 'development', 'environments', 'addressing', 'application', 'security', 'concerns', 'and', 'so', 'on', 'You', 'will', 'also', 'learn', 'how', 'these', 'concepts', 'relate', 'to', 'cost', 'effective', 'architectural', 'decisions', 'while', 'designing', 'scalable', 'highly', 'available', 'and', 'secure', 'AWS', 'cloud', 'applicationsA', 'step', 'by', 'step', 'approach', 'to', 'cloud', 'application', 'design', 'and', 'implementation', 'is', 'explained', 'in', 'a', 'conversational', 'and', 'easy', 'to', 'follow', 'style', 'Each', 'topic', 'is', 'explained', 'sequentially', 'in', 'the', 'process', 'of', 'creating', 'an', 'AWS', 'cloud', 'application', 'Detailed', 'explanations', 'of', 'the', 'basic', 'and', 'advanced', 'features', 'of', 'AWS', 'that', 'address', 'the', 'needs', 'of', 'readers', 'with', 'a', 'wide', 'range', 'of', 'real', 'world', 'experiences', 'are', 'also', 'included', 'Expert', 'programmers', 'and', 'architects', 'will', 'appreciate', 'the', 'focus', 'on', 'the', 'practice', 'rather', 'than', 'the', 'theory']\n",
      "El documento contiene 262 palabras \n"
     ]
    }
   ],
   "source": [
    "documento1 = fitz.open('./python_books/Python - AWS.pdf')\n",
    "#print(\"Número de páginas: \", documento1.pageCount)\n",
    "#print(\"Metados: \", documento1.metadata)\n",
    "pagina = documento1.loadPage(0)\n",
    "texto = pagina.getText(\"text\")\n",
    "texto=texto.replace(\"[\",'')\n",
    "texto=texto.replace(\"]\",'')\n",
    "texto=texto.replace(\"-\",' ')\n",
    "texto=texto.replace(\"\\n\",'')\n",
    "texto=texto.replace(\".\",'')\n",
    "texto=texto.replace(\",\",'')\n",
    "arr_palabras=texto.split(\" \")\n",
    "arr_palabras=[x for x in arr_palabras  if len(x)>0]\n",
    "print(texto)\n",
    "print(arr_palabras)\n",
    "print(f'El documento contiene {len(arr_palabras)} palabras ')"
   ]
  },
  {
   "cell_type": "code",
   "execution_count": 32,
   "metadata": {},
   "outputs": [
    {
     "name": "stdout",
     "output_type": "stream",
     "text": [
      "PrefaceToday\twe\tlive\tin\ta\tworld\tof\tconnected\tthings\twhere\ttons\tof\tdata\tis\tgenerated\tand\tit\tishumanly\timpossible\tto\tanalyze\tall\tthe\tincoming\tdata\tand\tmake\tdecisions\tHumandecisions\tare\tincreasingly\treplaced\tby\tdecisions\tmade\tby\tcomputers\tThanks\tto\tthe\tfieldof\tdata\tscience\tData\tscience\thas\tpenetrated\tdeeply\tin\tour\tconnected\tworld\tand\tthere\tis\tagrowing\tdemand\tin\tthe\tmarket\tfor\tpeople\twho\tnot\tonly\tunderstand\tdata\tsciencealgorithms\tthoroughly\tbut\tare\talso\tcapable\tof\tprogramming\tthese\talgorithms\tDatascience\tis\ta\tfield\tthat\tis\tat\tthe\tintersection\tof\tmany\tfields\tincluding\tdata\tmining\tmachinelearning\tand\tstatistics\tto\tname\ta\tfew\tThis\tputs\tan\timmense\tburden\ton\tall\tlevels\tof\tdatascientists\tfrom\tthe\tone\twho\tis\taspiring\tto\tbecome\ta\tdata\tscientist\tand\tthose\twho\tarecurrently\tpractitioners\tin\tthis\tfield\tTreating\tthese\talgorithms\tas\ta\tblack\tbox\tand\tusingthem\tin\tdecision\tmaking\tsystems\twill\tlead\tto\tcounterproductive\tresults\tWith\ttons\tofalgorithms\tand\tinnumerable\tproblems\tout\tthere\tit\trequires\ta\tgood\tgrasp\tof\tthe\tunderlyingalgorithms\tin\torder\tto\tchoose\tthe\tbest\tone\tfor\tany\tgiven\tproblemPython\tas\ta\tprogramming\tlanguage\thas\tevolved\tover\tthe\tyears\tand\ttoday\tit\tis\tthe\tnumberone\tchoice\tfor\ta\tdata\tscientist\tIts\tability\tto\tact\tas\ta\tscripting\tlanguage\tfor\tquick\tprototypebuilding\tand\tits\tsophisticated\tlanguage\tconstructs\tfor\tfull\tfledged\tsoftware\tdevelopmentcombined\twith\tits\tfantastic\tlibrary\tsupport\tfor\tnumeric\tcomputations\thas\tled\tto\tits\tcurrentpopularity\tamong\tdata\tscientists\tand\tthe\tgeneral\tscientific\tprogramming\tcommunity\tNotjust\tthat\tPython\tis\talso\tpopular\tamong\tweb\tdevelopers\tthanks\tto\tframeworks\tsuch\tasDjango\tand\tFlaskThis\tbook\thas\tbeen\tcarefully\twritten\tto\tcater\tto\tthe\tneeds\tof\ta\tdiverse\trange\tof\tdatascientists—starting\tfrom\tnovice\tdata\tscientists\tto\texperienced\tones—through\tcarefullycrafted\trecipes\twhich\ttouch\tupon\tthe\tdifferent\taspects\tof\tdata\tscience\tincluding\tdataexploration\tdata\tanalysis\tand\tmining\tmachine\tlearning\tand\tlarge\tscale\tmachine\tlearningEach\tchapter\thas\tbeen\tcarefully\tcrafted\twith\trecipes\texploring\tthese\taspects\tSufficientmath\thas\tbeen\tprovided\tfor\tthe\treaders\tto\tunderstand\tthe\tfunctioning\tof\tthe\talgorithms\tindepth\tWherever\tnecessary\tenough\treferences\tare\tprovided\tfor\tthe\tcurious\treaders\tTherecipes\tare\twritten\tin\tsuch\ta\tway\tthat\tthey\tare\teasy\tto\tfollow\tand\tunderstandThis\tbook\tbrings\tthe\tart\tof\tdata\tscience\twith\tpower\tPython\tprogramming\tto\tthe\treadersand\thelps\tthem\tmaster\tthe\tconcepts\tof\tdata\tscience\tKnowledge\tof\tPython\tis\tnotmandatory\tto\tfollow\tthis\tbook\tNon\tPython\tprogrammers\tcan\trefer\tto\tthe\tfirst\tchapterwhich\tintroduces\tthe\tPython\tdata\tstructures\tand\tfunction\tprogramming\tconceptsThe\tearly\tchapters\tcover\tthe\tbasics\tof\tdata\tscience\tand\tthe\tlater\tchapters\tare\tdedicated\ttoadvanced\tdata\tscience\talgorithms\tState\tof\tthe\tart\talgorithms\tthat\tare\tcurrently\tused\tinpractice\tby\tleading\tdata\tscientists\tacross\tindustries\tincluding\tthe\tensemble\tmethodsrandom\tforest\tregression\twith\tregularization\tand\tothers\tare\tcovered\tin\tdetail\tSome\tofthe\talgorithms\tthat\tare\tpopular\tin\tacademia\tand\tstill\tnot\twidely\tintroduced\tto\tthemainstream\tsuch\tas\trotational\tforest\tare\tcovered\tin\tdetailWith\ta\tlot\tof\tdo\tit\tyourself\tbooks\ton\tdata\tscience\ttoday\tin\tthe\tmarket\twe\tfeel\tthat\tthere\tisa\tgap\tin\tterms\tof\tcovering\tthe\tright\tmix\tof\tmath\tphilosophy\tbehind\tthe\tdata\tscience\n",
      "['PrefaceToday', 'we', 'live', 'in', 'a', 'world', 'of', 'connected', 'things', 'where', 'tons', 'of', 'data', 'is', 'generated', 'and', 'it', 'ishumanly', 'impossible', 'to', 'analyze', 'all', 'the', 'incoming', 'data', 'and', 'make', 'decisions', 'Humandecisions', 'are', 'increasingly', 'replaced', 'by', 'decisions', 'made', 'by', 'computers', 'Thanks', 'to', 'the', 'fieldof', 'data', 'science', 'Data', 'science', 'has', 'penetrated', 'deeply', 'in', 'our', 'connected', 'world', 'and', 'there', 'is', 'agrowing', 'demand', 'in', 'the', 'market', 'for', 'people', 'who', 'not', 'only', 'understand', 'data', 'sciencealgorithms', 'thoroughly', 'but', 'are', 'also', 'capable', 'of', 'programming', 'these', 'algorithms', 'Datascience', 'is', 'a', 'field', 'that', 'is', 'at', 'the', 'intersection', 'of', 'many', 'fields', 'including', 'data', 'mining', 'machinelearning', 'and', 'statistics', 'to', 'name', 'a', 'few', 'This', 'puts', 'an', 'immense', 'burden', 'on', 'all', 'levels', 'of', 'datascientists', 'from', 'the', 'one', 'who', 'is', 'aspiring', 'to', 'become', 'a', 'data', 'scientist', 'and', 'those', 'who', 'arecurrently', 'practitioners', 'in', 'this', 'field', 'Treating', 'these', 'algorithms', 'as', 'a', 'black', 'box', 'and', 'usingthem', 'in', 'decision', 'making', 'systems', 'will', 'lead', 'to', 'counterproductive', 'results', 'With', 'tons', 'ofalgorithms', 'and', 'innumerable', 'problems', 'out', 'there', 'it', 'requires', 'a', 'good', 'grasp', 'of', 'the', 'underlyingalgorithms', 'in', 'order', 'to', 'choose', 'the', 'best', 'one', 'for', 'any', 'given', 'problemPython', 'as', 'a', 'programming', 'language', 'has', 'evolved', 'over', 'the', 'years', 'and', 'today', 'it', 'is', 'the', 'numberone', 'choice', 'for', 'a', 'data', 'scientist', 'Its', 'ability', 'to', 'act', 'as', 'a', 'scripting', 'language', 'for', 'quick', 'prototypebuilding', 'and', 'its', 'sophisticated', 'language', 'constructs', 'for', 'full', 'fledged', 'software', 'developmentcombined', 'with', 'its', 'fantastic', 'library', 'support', 'for', 'numeric', 'computations', 'has', 'led', 'to', 'its', 'currentpopularity', 'among', 'data', 'scientists', 'and', 'the', 'general', 'scientific', 'programming', 'community', 'Notjust', 'that', 'Python', 'is', 'also', 'popular', 'among', 'web', 'developers', 'thanks', 'to', 'frameworks', 'such', 'asDjango', 'and', 'FlaskThis', 'book', 'has', 'been', 'carefully', 'written', 'to', 'cater', 'to', 'the', 'needs', 'of', 'a', 'diverse', 'range', 'of', 'datascientists—starting', 'from', 'novice', 'data', 'scientists', 'to', 'experienced', 'ones—through', 'carefullycrafted', 'recipes', 'which', 'touch', 'upon', 'the', 'different', 'aspects', 'of', 'data', 'science', 'including', 'dataexploration', 'data', 'analysis', 'and', 'mining', 'machine', 'learning', 'and', 'large', 'scale', 'machine', 'learningEach', 'chapter', 'has', 'been', 'carefully', 'crafted', 'with', 'recipes', 'exploring', 'these', 'aspects', 'Sufficientmath', 'has', 'been', 'provided', 'for', 'the', 'readers', 'to', 'understand', 'the', 'functioning', 'of', 'the', 'algorithms', 'indepth', 'Wherever', 'necessary', 'enough', 'references', 'are', 'provided', 'for', 'the', 'curious', 'readers', 'Therecipes', 'are', 'written', 'in', 'such', 'a', 'way', 'that', 'they', 'are', 'easy', 'to', 'follow', 'and', 'understandThis', 'book', 'brings', 'the', 'art', 'of', 'data', 'science', 'with', 'power', 'Python', 'programming', 'to', 'the', 'readersand', 'helps', 'them', 'master', 'the', 'concepts', 'of', 'data', 'science', 'Knowledge', 'of', 'Python', 'is', 'notmandatory', 'to', 'follow', 'this', 'book', 'Non', 'Python', 'programmers', 'can', 'refer', 'to', 'the', 'first', 'chapterwhich', 'introduces', 'the', 'Python', 'data', 'structures', 'and', 'function', 'programming', 'conceptsThe', 'early', 'chapters', 'cover', 'the', 'basics', 'of', 'data', 'science', 'and', 'the', 'later', 'chapters', 'are', 'dedicated', 'toadvanced', 'data', 'science', 'algorithms', 'State', 'of', 'the', 'art', 'algorithms', 'that', 'are', 'currently', 'used', 'inpractice', 'by', 'leading', 'data', 'scientists', 'across', 'industries', 'including', 'the', 'ensemble', 'methodsrandom', 'forest', 'regression', 'with', 'regularization', 'and', 'others', 'are', 'covered', 'in', 'detail', 'Some', 'ofthe', 'algorithms', 'that', 'are', 'popular', 'in', 'academia', 'and', 'still', 'not', 'widely', 'introduced', 'to', 'themainstream', 'such', 'as', 'rotational', 'forest', 'are', 'covered', 'in', 'detailWith', 'a', 'lot', 'of', 'do', 'it', 'yourself', 'books', 'on', 'data', 'science', 'today', 'in', 'the', 'market', 'we', 'feel', 'that', 'there', 'isa', 'gap', 'in', 'terms', 'of', 'covering', 'the', 'right', 'mix', 'of', 'math', 'philosophy', 'behind', 'the', 'data', 'science']\n",
      "El documento contiene 503 palabras\n"
     ]
    }
   ],
   "source": [
    "documento2 = fitz.open('./python_books/Python  Data Science Cookbook.pdf')\n",
    "#print(\"Número de páginas: \", documento1.pageCount)\n",
    "#print(\"Metados: \", documento1.metadata)\n",
    "pagina = documento2.loadPage(0)\n",
    "texto = pagina.getText(\"text\")\n",
    "texto=texto.replace(\"\\n\",'')\n",
    "texto=texto.replace(\".\",'')\n",
    "texto=texto.replace(\",\",'')\n",
    "texto=texto.replace('-','\\t')\n",
    "texto=texto.replace(\";\",'')\n",
    "print(texto)\n",
    "arr_palabras=texto.split(\"\\t\")\n",
    "print(arr_palabras)\n",
    "print(f'El documento contiene {len(arr_palabras)} palabras')"
   ]
  },
  {
   "cell_type": "code",
   "execution_count": 34,
   "metadata": {},
   "outputs": [
    {
     "name": "stdout",
     "output_type": "stream",
     "text": [
      "PrefaceIt is our firm belief that an ambitious student major in finance should learn at least one computer language The basic reason is that we have entered the Big Data era In finance we have a huge amount of data and most of it is publically available free of charge To use such rich sources of data efficiently we need a tool Among many potential candidates Python is one of the best choicesWhy Python There are various reasons that Python should be used Firstly Python is free in terms of license Python is available for all major operating systems such as Windows Linux Unix OS 2 Mac and Amiga among others Being free has many benefits When students graduate they could apply what they have learned wherever they go This is true for the financial community as well In contrast this is not true for SAS and MATLAB Secondly Python is powerful flexible and easy to learn It is capable of solving almost all our financial and economic estimations Thirdly we could apply Python to Big Data Dasgupta (2013) argues that R and Python are two of the most popular open source programming languages for data analysis Fourthly there are many useful modules in Python Each model is developed for a special purpose In this book we focus on NumPy SciPy Matplotlib Statsmodels and Pandas modules\n",
      "['PrefaceIt', 'is', 'our', 'firm', 'belief', 'that', 'an', 'ambitious', 'student', 'major', 'in', 'finance', 'should', 'learn', 'at', 'least', 'one', 'computer', 'language', 'The', 'basic', 'reason', 'is', 'that', 'we', 'have', 'entered', 'the', 'Big', 'Data', 'era', 'In', 'finance', 'we', 'have', 'a', 'huge', 'amount', 'of', 'data', 'and', 'most', 'of', 'it', 'is', 'publically', 'available', 'free', 'of', 'charge', 'To', 'use', 'such', 'rich', 'sources', 'of', 'data', 'efficiently', 'we', 'need', 'a', 'tool', 'Among', 'many', 'potential', 'candidates', 'Python', 'is', 'one', 'of', 'the', 'best', 'choicesWhy', 'Python', 'There', 'are', 'various', 'reasons', 'that', 'Python', 'should', 'be', 'used', 'Firstly', 'Python', 'is', 'free', 'in', 'terms', 'of', 'license', 'Python', 'is', 'available', 'for', 'all', 'major', 'operating', 'systems', 'such', 'as', 'Windows', 'Linux', 'Unix', 'OS', '2', 'Mac', 'and', 'Amiga', 'among', 'others', 'Being', 'free', 'has', 'many', 'benefits', 'When', 'students', 'graduate', 'they', 'could', 'apply', 'what', 'they', 'have', 'learned', 'wherever', 'they', 'go', 'This', 'is', 'true', 'for', 'the', 'financial', 'community', 'as', 'well', 'In', 'contrast', 'this', 'is', 'not', 'true', 'for', 'SAS', 'and', 'MATLAB', 'Secondly', 'Python', 'is', 'powerful', 'flexible', 'and', 'easy', 'to', 'learn', 'It', 'is', 'capable', 'of', 'solving', 'almost', 'all', 'our', 'financial', 'and', 'economic', 'estimations', 'Thirdly', 'we', 'could', 'apply', 'Python', 'to', 'Big', 'Data', 'Dasgupta', '(2013)', 'argues', 'that', 'R', 'and', 'Python', 'are', 'two', 'of', 'the', 'most', 'popular', 'open', 'source', 'programming', 'languages', 'for', 'data', 'analysis', 'Fourthly', 'there', 'are', 'many', 'useful', 'modules', 'in', 'Python', 'Each', 'model', 'is', 'developed', 'for', 'a', 'special', 'purpose', 'In', 'this', 'book', 'we', 'focus', 'on', 'NumPy', 'SciPy', 'Matplotlib', 'Statsmodels', 'and', 'Pandas', 'modules']\n",
      "El documento contiene 226 palabras\n"
     ]
    }
   ],
   "source": [
    "documento2 = fitz.open('./python_books/Python - Finance.pdf')\n",
    "#print(\"Número de páginas: \", documento1.pageCount)\n",
    "#print(\"Metados: \", documento1.metadata)\n",
    "pagina = documento2.loadPage(0)\n",
    "texto = pagina.getText(\"text\")\n",
    "texto=texto.replace(\"\\n\",'')\n",
    "texto=texto.replace(\".\",'')\n",
    "texto=texto.replace(\",\",'')\n",
    "texto=texto.replace('-','\\t')\n",
    "texto=texto.replace(\";\",'')\n",
    "texto=texto.replace('/',' ')\n",
    "texto=texto.replace('?',' ')\n",
    "print(texto)\n",
    "arr_palabras=texto.split(\" \")\n",
    "print(arr_palabras)\n",
    "print(f'El documento contiene {len(arr_palabras)} palabras')"
   ]
  },
  {
   "cell_type": "code",
   "execution_count": 35,
   "metadata": {},
   "outputs": [
    {
     "name": "stdout",
     "output_type": "stream",
     "text": [
      "El arvico que mas palabras tiene es:Python  Data Science Cookbook.pdf \n"
     ]
    }
   ],
   "source": [
    "print('El arvico que mas palabras tiene es:Python  Data Science Cookbook.pdf ')"
   ]
  }
 ],
 "metadata": {
  "kernelspec": {
   "display_name": "Python 3",
   "language": "python",
   "name": "python3"
  },
  "language_info": {
   "codemirror_mode": {
    "name": "ipython",
    "version": 3
   },
   "file_extension": ".py",
   "mimetype": "text/x-python",
   "name": "python",
   "nbconvert_exporter": "python",
   "pygments_lexer": "ipython3",
   "version": "3.8.5"
  }
 },
 "nbformat": 4,
 "nbformat_minor": 2
}
