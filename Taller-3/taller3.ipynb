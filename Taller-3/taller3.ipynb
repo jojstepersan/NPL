{
 "cells": [
  {
   "cell_type": "markdown",
   "metadata": {},
   "source": [
    "<img src='https://encrypted-tbn0.gstatic.com/images?q=tbn%3AANd9GcQ-VfNtOyJbsaxu43Kztf_cv1mgBG6ZIQZEVw&usqp=CAU'>\n",
    "\n",
    "# Procesamiento de Lenguaje Natural\n",
    "\n",
    "## Taller #3: Web Scraping\n",
    "`Fecha de entrega: Marzo 11, 2021. (Antes del inicio de la próxima clase).`"
   ]
  },
  {
   "cell_type": "markdown",
   "metadata": {},
   "source": [
    "# Punto 1:\n",
    "\n",
    "- `[15 pts]` Hacer Web Scraping de 10 animales en Wikipedia (en búcle)\n",
    "- `[10 pts]` Obtener el **encabezado** de cada animal\n",
    "- `[15 pts]` Obtener todos los **textos** que están en las etiquetas de negrilla del primer párrafo."
   ]
  },
  {
   "cell_type": "code",
   "execution_count": 1,
   "metadata": {},
   "outputs": [],
   "source": [
    "import bs4 as bs \n",
    "import urllib.request"
   ]
  },
  {
   "cell_type": "code",
   "execution_count": 2,
   "metadata": {},
   "outputs": [],
   "source": [
    "enlaces =[\"https://es.wikipedia.org/wiki/Canis_familiaris\",\n",
    "          \"https://es.wikipedia.org/wiki/Felis_silvestris_catus\",\n",
    "          \"https://es.wikipedia.org/wiki/Canis_lupus\",\n",
    "          \"https://es.wikipedia.org/wiki/Psittacoidea\",\n",
    "          \"https://es.wikipedia.org/wiki/Elephantidae\",\n",
    "          \"https://es.wikipedia.org/wiki/Panthera_leo\",\n",
    "          \"https://es.wikipedia.org/wiki/%C3%81guila\",\n",
    "          \"https://es.wikipedia.org/wiki/Equus_ferus_caballus\",\n",
    "          \"https://es.wikipedia.org/wiki/Mus_(animal)\",\n",
    "          \"https://en.wikipedia.org/wiki/Leopard\"\n",
    "         ]"
   ]
  },
  {
   "cell_type": "code",
   "execution_count": 20,
   "metadata": {},
   "outputs": [
    {
     "name": "stdout",
     "output_type": "stream",
     "text": [
      "CABEZERA -> Canis familiaris\n",
      "NEGRILLAS:\n",
      "perro\n",
      "Canis familiaris\n",
      "Canis lupus familiaris\n",
      "perro doméstico\n",
      "can\n",
      "chucho\n",
      "tuso\n",
      "choco\n",
      "CABEZERA -> Felis silvestris catus\n",
      "NEGRILLAS:\n",
      "gato doméstico\n",
      "Felis silvestris catus\n",
      "gato\n",
      "minino\n",
      "michino\n",
      "michi\n",
      "micho\n",
      "mizo\n",
      "miz\n",
      "morroño\n",
      "morrongo\n",
      "«Capturar-Esterilizar-Soltar»,\n",
      "Pablo Neruda\n",
      "The International Cat Association\n",
      "Fédération Internationale Féline\n",
      "World Cat Federation\n",
      "Rare and Exotic Cat Registry\n",
      "CABEZERA -> Canis lupus\n",
      "NEGRILLAS:\n",
      "lobo\n",
      "Canis lupus\n",
      "CABEZERA -> Psittacoidea\n",
      "NEGRILLAS:\n",
      "Psittacoidea\n",
      "psitacoideos\n",
      "loros típicos\n",
      "CABEZERA -> Elephantidae\n",
      "NEGRILLAS:\n",
      "elefantes\n",
      "elefántidos\n",
      "Elephantidae\n",
      "abrir camino, marcar árboles\n",
      "escarbar y para atacar y defenderse\n",
      "sonidos\n",
      "infrasónicos\n",
      "CABEZERA -> Panthera leo\n",
      "NEGRILLAS:\n",
      "león\n",
      "Panthera leo\n",
      "CABEZERA -> Águila\n",
      "NEGRILLAS:\n",
      "Águila\n",
      "CABEZERA -> Equus ferus caballus\n",
      "NEGRILLAS:\n",
      "caballo\n",
      "Equus ferus caballus\n",
      "yegua\n",
      "potros\n",
      "potrillos\n",
      "potras\n",
      "potrancas\n",
      "tranco\n",
      "paso\n",
      "trote\n",
      "galope\n",
      "CABEZERA -> Mus (animal)\n",
      "NEGRILLAS:\n",
      "Mus\n",
      "ratones\n",
      "CABEZERA -> Leopard\n",
      "NEGRILLAS:\n",
      "leopard\n"
     ]
    }
   ],
   "source": [
    "lits_negrillas = []\n",
    "for link in enlaces:\n",
    "    request = urllib.request.Request(link, headers={'User-Agent': 'Mozilla/5.0'})\n",
    "    webpage = urllib.request.urlopen(request)\n",
    "    source = webpage.read()\n",
    "    webpage.close()\n",
    "    soup = bs.BeautifulSoup(source, 'html.parser')\n",
    "    print(f'CABEZERA -> {soup.find(\"h1\").text}')\n",
    "    parrafos = soup.find_all(\"p\")\n",
    "    print(\"NEGRILLAS:\")\n",
    "    for p in parrafos:\n",
    "        negrillas = p.find_all(\"b\")\n",
    "        if len(negrillas):\n",
    "            for b in negrillas:\n",
    "                print(b.text)\n",
    "                lits_negrillas.append(b.text)"
   ]
  },
  {
   "cell_type": "code",
   "execution_count": 23,
   "metadata": {},
   "outputs": [
    {
     "name": "stdout",
     "output_type": "stream",
     "text": [
      "gato doméstico\n",
      "Felis silvestris catus\n",
      "gato\n",
      "minino\n",
      "michino\n",
      "michi\n",
      "micho\n",
      "mizo\n",
      "miz\n",
      "morroño\n",
      "morrongo\n"
     ]
    }
   ],
   "source": []
  },
  {
   "cell_type": "markdown",
   "metadata": {},
   "source": [
    "# Punto 2:\n",
    "- `[10 pts]` Usando regex, reemplazar todas las caracteres especiales del punto anterior (palabras en negrilla) por un asterisco (¡Ojo, los espacios se quedan!)\n"
   ]
  },
  {
   "cell_type": "code",
   "execution_count": 26,
   "metadata": {},
   "outputs": [
    {
     "name": "stdout",
     "output_type": "stream",
     "text": [
      "perro\n",
      "Canis familiaris\n",
      "Canis lupus familiaris\n",
      "perro dom*stico\n",
      "can\n",
      "chucho\n",
      "tuso\n",
      "choco\n",
      "gato dom*stico\n",
      "Felis silvestris catus\n",
      "gato\n",
      "minino\n",
      "michino\n",
      "michi\n",
      "micho\n",
      "mizo\n",
      "miz\n",
      "morro*o\n",
      "morrongo\n",
      "*Capturar*Esterilizar*Soltar**\n",
      "Pablo Neruda\n",
      "The International Cat Association\n",
      "F*d*ration Internationale F*line\n",
      "World Cat Federation\n",
      "Rare and Exotic Cat Registry\n",
      "lobo\n",
      "Canis lupus\n",
      "Psittacoidea\n",
      "psitacoideos\n",
      "loros t*picos\n",
      "elefantes\n",
      "elef*ntidos\n",
      "Elephantidae\n",
      "abrir camino* marcar *rboles\n",
      "escarbar y para atacar y defenderse\n",
      "sonidos\n",
      "infras*nicos\n",
      "le*n\n",
      "Panthera leo\n",
      "*guila\n",
      "caballo\n",
      "Equus ferus caballus\n",
      "yegua\n",
      "potros\n",
      "potrillos\n",
      "potras\n",
      "potrancas\n",
      "tranco\n",
      "paso\n",
      "trote\n",
      "galope\n",
      "Mus\n",
      "ratones\n",
      "leopard\n"
     ]
    }
   ],
   "source": [
    "import re\n",
    "patron= \"[^a-zA-Z0-9 ]\"\n",
    "for b in lits_negrillas:\n",
    "    print(re.sub(patron,\"*\",b))"
   ]
  }
 ],
 "metadata": {
  "kernelspec": {
   "display_name": "Python 3",
   "language": "python",
   "name": "python3"
  },
  "language_info": {
   "codemirror_mode": {
    "name": "ipython",
    "version": 3
   },
   "file_extension": ".py",
   "mimetype": "text/x-python",
   "name": "python",
   "nbconvert_exporter": "python",
   "pygments_lexer": "ipython3",
   "version": "3.8.5"
  }
 },
 "nbformat": 4,
 "nbformat_minor": 2
}
